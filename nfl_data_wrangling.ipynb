{
 "cells": [
  {
   "cell_type": "code",
   "execution_count": 21,
   "metadata": {},
   "outputs": [],
   "source": [
    "path_nfl_qb_stats = '../../capstone_project_1/nfl-qb-stats'\n",
    "path_nfl_passing = '../../capstone_project_1/nfl-passing-statistics'"
   ]
  },
  {
   "cell_type": "code",
   "execution_count": 22,
   "metadata": {},
   "outputs": [],
   "source": [
    "%matplotlib inline\n",
    "import pandas as pd\n",
    "import statistics\n",
    "import numpy as np\n",
    "import os\n",
    "import glob"
   ]
  },
  {
   "cell_type": "code",
   "execution_count": 23,
   "metadata": {
    "scrolled": true
   },
   "outputs": [],
   "source": [
    "qb_game_stats = pd.read_csv(path_nfl_qb_stats+'/QBStats_all.csv')\n",
    "passing_stats = pd.concat(map(pd.read_csv, glob.glob(path_nfl_passing+ '/pass*.csv')),sort = True)\n"
   ]
  },
  {
   "cell_type": "code",
   "execution_count": 24,
   "metadata": {},
   "outputs": [],
   "source": [
    "#load csv of 2019 stats into dataframe, columns in different order than 2009-2018\n",
    "passing_stats_2019 = pd.read_csv(path_nfl_passing + '/unordered-pass-2019.csv')\n",
    "passing_stats_2019 = passing_stats_2019.rename(columns={'Qbrec':'QBrec'})"
   ]
  },
  {
   "cell_type": "code",
   "execution_count": 25,
   "metadata": {},
   "outputs": [],
   "source": [
    "#concatenate 2009-2018 w/ 2019\n",
    "passing_stats=pd.concat([passing_stats, passing_stats_2019], sort=True, ignore_index=True)\n",
    "passing_stats = passing_stats.drop(['1D', 'Yds.1'], axis = 1)"
   ]
  },
  {
   "cell_type": "code",
   "execution_count": 26,
   "metadata": {},
   "outputs": [],
   "source": [
    "passing = passing_stats[((passing_stats['Pos'] == 'QB') | (passing_stats['Pos'] == 'qb')) & (passing_stats['Att'] >= 100)]"
   ]
  },
  {
   "cell_type": "code",
   "execution_count": 27,
   "metadata": {},
   "outputs": [
    {
     "data": {
      "text/plain": [
       "7.1"
      ]
     },
     "execution_count": 27,
     "metadata": {},
     "output_type": "execute_result"
    }
   ],
   "source": [
    "#avg NFL YPA of QBs with more than 100 att from 2009-2019\n",
    "ypa_avg = round(passing['Y/A'].mean(), 1)\n",
    "ypa_avg"
   ]
  },
  {
   "cell_type": "code",
   "execution_count": 28,
   "metadata": {},
   "outputs": [
    {
     "data": {
      "text/plain": [
       "5.9"
      ]
     },
     "execution_count": 28,
     "metadata": {},
     "output_type": "execute_result"
    }
   ],
   "source": [
    "#avg NFL ANY/A of QBs with more than 100 att from 2009-2019\n",
    "anya_avg = round(passing['ANY/A'].mean(),1)\n",
    "anya_avg"
   ]
  },
  {
   "cell_type": "code",
   "execution_count": null,
   "metadata": {},
   "outputs": [],
   "source": []
  },
  {
   "cell_type": "code",
   "execution_count": 29,
   "metadata": {},
   "outputs": [],
   "source": [
    "#split index into player names only\n",
    "qb_stats = passing.set_index(['Player']).sort_index()\n",
    "qb_stats.index = qb_stats.index.str.split(\"+\" , n=1, expand = True)\n",
    "qb_stats = qb_stats.droplevel(1)"
   ]
  },
  {
   "cell_type": "code",
   "execution_count": null,
   "metadata": {},
   "outputs": [],
   "source": []
  },
  {
   "cell_type": "code",
   "execution_count": 30,
   "metadata": {},
   "outputs": [],
   "source": [
    "qb_stats.index = qb_stats.index.str.split('*', n=1, expand = True)\n",
    "qb_stats=qb_stats.droplevel(1)"
   ]
  },
  {
   "cell_type": "code",
   "execution_count": 31,
   "metadata": {},
   "outputs": [],
   "source": [
    "qb_stats.index = qb_stats.index.str.split('\\\\', n=1, expand = True)"
   ]
  },
  {
   "cell_type": "code",
   "execution_count": 32,
   "metadata": {},
   "outputs": [],
   "source": [
    "qb_stats = qb_stats.droplevel(1)"
   ]
  },
  {
   "cell_type": "code",
   "execution_count": 33,
   "metadata": {},
   "outputs": [],
   "source": [
    "#calculate career win percentage\n",
    "qb_record = qb_stats['QBrec']\n",
    "qb_record = qb_record.iloc[:].str.split(r'\\-|/', n = 1, expand = True)\n",
    "qb_record[1] = qb_record.iloc[:,1].str.split(r'\\-|/', n=1, expand = True)\n",
    "qb_record = qb_record.rename(columns={0: 'win', 1:'loss'})\n",
    "qb_record[['win', 'loss']] = qb_record[['win','loss']].astype(int)\n",
    "qb_record = qb_record.groupby(level=0).sum()\n",
    "qb_record['win_percentage'] = (qb_record['win'] / (qb_record['win'] + qb_record['loss']))"
   ]
  },
  {
   "cell_type": "code",
   "execution_count": 34,
   "metadata": {},
   "outputs": [],
   "source": [
    "#qb total int \n",
    "qb_int = qb_stats['Int']\n",
    "qb_int = qb_int.groupby(qb_int.index).sum()\n",
    "\n",
    "#qb total td\n",
    "qb_td = qb_stats['TD']\n",
    "qb_td = qb_td.groupby(qb_td.index).sum()\n",
    "\n",
    "#qb total yards\n",
    "qb_yards = qb_stats['Yds']\n",
    "qb_yards = qb_yards.groupby(qb_yards.index).sum()\n",
    "\n",
    "#qb total games\n",
    "qb_games = qb_stats['G']\n",
    "qb_games = qb_games.groupby(qb_games.index).sum()\n",
    "\n",
    "#qb sacks\n",
    "qb_sacks = qb_stats['Sk']\n",
    "qb_sacks = qb_sacks.groupby(qb_sacks.index).sum()"
   ]
  },
  {
   "cell_type": "code",
   "execution_count": 35,
   "metadata": {},
   "outputs": [],
   "source": [
    "#qb average for qbs playing from 2009-2019, replace necessary columns with career totals \n",
    "qb_career_stats = qb_stats.groupby(level=0).mean().round(1)\n",
    "qb_career_stats.sort_values(by=['Y/A'], ascending=False)\n",
    "qb_career_stats['win_pct'] = qb_record['win_percentage']\n",
    "qb_career_stats['Int'] = qb_int\n",
    "qb_career_stats['TD'] = qb_td\n",
    "qb_career_stats['Yds'] = qb_yards\n",
    "qb_career_stats['G'] = qb_games\n",
    "qb_career_stats['Sk'] = qb_sacks"
   ]
  },
  {
   "cell_type": "code",
   "execution_count": null,
   "metadata": {},
   "outputs": [],
   "source": []
  },
  {
   "cell_type": "code",
   "execution_count": 36,
   "metadata": {},
   "outputs": [],
   "source": [
    "qb_career_stats = qb_career_stats.drop(['4QC','Age','GWD','GS','Rk', 'Lng'], axis = 1)"
   ]
  },
  {
   "cell_type": "code",
   "execution_count": 37,
   "metadata": {
    "scrolled": false
   },
   "outputs": [
    {
     "name": "stdout",
     "output_type": "stream",
     "text": [
      "<class 'pandas.core.frame.DataFrame'>\n",
      "Index: 132 entries, A.J. McCarron to Zach Mettenberger\n",
      "Data columns (total 20 columns):\n",
      "ANY/A      132 non-null float64\n",
      "AY/A       132 non-null float64\n",
      "Att        132 non-null float64\n",
      "Cmp        132 non-null float64\n",
      "Cmp%       132 non-null float64\n",
      "G          132 non-null int64\n",
      "Int        132 non-null int64\n",
      "Int%       132 non-null float64\n",
      "NY/A       132 non-null float64\n",
      "QBR        131 non-null float64\n",
      "Rate       132 non-null float64\n",
      "Sk         132 non-null int64\n",
      "Sk%        132 non-null float64\n",
      "TD         132 non-null int64\n",
      "TD%        132 non-null float64\n",
      "Y/A        132 non-null float64\n",
      "Y/C        132 non-null float64\n",
      "Y/G        132 non-null float64\n",
      "Yds        132 non-null int64\n",
      "win_pct    132 non-null float64\n",
      "dtypes: float64(15), int64(5)\n",
      "memory usage: 21.7+ KB\n"
     ]
    }
   ],
   "source": [
    "qb_career_stats.info()\n",
    "#one missing value in DataFrame(QBR column), will fill with average of columnb"
   ]
  },
  {
   "cell_type": "code",
   "execution_count": 54,
   "metadata": {},
   "outputs": [
    {
     "data": {
      "text/html": [
       "<div>\n",
       "<style scoped>\n",
       "    .dataframe tbody tr th:only-of-type {\n",
       "        vertical-align: middle;\n",
       "    }\n",
       "\n",
       "    .dataframe tbody tr th {\n",
       "        vertical-align: top;\n",
       "    }\n",
       "\n",
       "    .dataframe thead th {\n",
       "        text-align: right;\n",
       "    }\n",
       "</style>\n",
       "<table border=\"1\" class=\"dataframe\">\n",
       "  <thead>\n",
       "    <tr style=\"text-align: right;\">\n",
       "      <th></th>\n",
       "      <th>ANY/A</th>\n",
       "      <th>AY/A</th>\n",
       "      <th>Att</th>\n",
       "      <th>Cmp</th>\n",
       "      <th>Cmp%</th>\n",
       "      <th>G</th>\n",
       "      <th>Int</th>\n",
       "      <th>Int%</th>\n",
       "      <th>NY/A</th>\n",
       "      <th>QBR</th>\n",
       "      <th>Rate</th>\n",
       "      <th>Sk</th>\n",
       "      <th>Sk%</th>\n",
       "      <th>TD</th>\n",
       "      <th>TD%</th>\n",
       "      <th>Y/A</th>\n",
       "      <th>Y/C</th>\n",
       "      <th>Y/G</th>\n",
       "      <th>Yds</th>\n",
       "      <th>win_pct</th>\n",
       "    </tr>\n",
       "  </thead>\n",
       "  <tbody>\n",
       "    <tr>\n",
       "      <td>A.J. McCarron</td>\n",
       "      <td>6.3</td>\n",
       "      <td>7.4</td>\n",
       "      <td>119.0</td>\n",
       "      <td>79.0</td>\n",
       "      <td>66.4</td>\n",
       "      <td>7</td>\n",
       "      <td>2</td>\n",
       "      <td>1.7</td>\n",
       "      <td>6.0</td>\n",
       "      <td>NaN</td>\n",
       "      <td>97.1</td>\n",
       "      <td>12</td>\n",
       "      <td>9.2</td>\n",
       "      <td>6</td>\n",
       "      <td>5.0</td>\n",
       "      <td>7.2</td>\n",
       "      <td>10.8</td>\n",
       "      <td>122.0</td>\n",
       "      <td>854</td>\n",
       "      <td>0.666667</td>\n",
       "    </tr>\n",
       "    <tr>\n",
       "      <td>Aaron Rodgers</td>\n",
       "      <td>7.4</td>\n",
       "      <td>8.4</td>\n",
       "      <td>496.9</td>\n",
       "      <td>321.5</td>\n",
       "      <td>64.9</td>\n",
       "      <td>158</td>\n",
       "      <td>70</td>\n",
       "      <td>1.4</td>\n",
       "      <td>6.8</td>\n",
       "      <td>67.6</td>\n",
       "      <td>103.6</td>\n",
       "      <td>405</td>\n",
       "      <td>7.0</td>\n",
       "      <td>335</td>\n",
       "      <td>6.2</td>\n",
       "      <td>7.8</td>\n",
       "      <td>12.0</td>\n",
       "      <td>268.6</td>\n",
       "      <td>42579</td>\n",
       "      <td>0.681529</td>\n",
       "    </tr>\n",
       "    <tr>\n",
       "      <td>Alex Smith</td>\n",
       "      <td>6.2</td>\n",
       "      <td>7.1</td>\n",
       "      <td>414.1</td>\n",
       "      <td>264.7</td>\n",
       "      <td>64.0</td>\n",
       "      <td>134</td>\n",
       "      <td>70</td>\n",
       "      <td>1.8</td>\n",
       "      <td>6.2</td>\n",
       "      <td>54.3</td>\n",
       "      <td>91.8</td>\n",
       "      <td>329</td>\n",
       "      <td>7.4</td>\n",
       "      <td>174</td>\n",
       "      <td>4.3</td>\n",
       "      <td>7.1</td>\n",
       "      <td>11.1</td>\n",
       "      <td>217.7</td>\n",
       "      <td>29389</td>\n",
       "      <td>0.638462</td>\n",
       "    </tr>\n",
       "    <tr>\n",
       "      <td>Andrew Luck</td>\n",
       "      <td>6.3</td>\n",
       "      <td>7.0</td>\n",
       "      <td>548.3</td>\n",
       "      <td>333.3</td>\n",
       "      <td>60.4</td>\n",
       "      <td>86</td>\n",
       "      <td>83</td>\n",
       "      <td>2.6</td>\n",
       "      <td>6.4</td>\n",
       "      <td>63.1</td>\n",
       "      <td>88.3</td>\n",
       "      <td>174</td>\n",
       "      <td>5.0</td>\n",
       "      <td>171</td>\n",
       "      <td>5.2</td>\n",
       "      <td>7.1</td>\n",
       "      <td>11.9</td>\n",
       "      <td>274.7</td>\n",
       "      <td>23671</td>\n",
       "      <td>0.616279</td>\n",
       "    </tr>\n",
       "    <tr>\n",
       "      <td>Andy Dalton</td>\n",
       "      <td>6.1</td>\n",
       "      <td>6.9</td>\n",
       "      <td>510.5</td>\n",
       "      <td>316.4</td>\n",
       "      <td>62.1</td>\n",
       "      <td>122</td>\n",
       "      <td>107</td>\n",
       "      <td>2.6</td>\n",
       "      <td>6.4</td>\n",
       "      <td>50.2</td>\n",
       "      <td>87.9</td>\n",
       "      <td>257</td>\n",
       "      <td>5.9</td>\n",
       "      <td>183</td>\n",
       "      <td>4.5</td>\n",
       "      <td>7.1</td>\n",
       "      <td>11.5</td>\n",
       "      <td>239.0</td>\n",
       "      <td>29028</td>\n",
       "      <td>0.541667</td>\n",
       "    </tr>\n",
       "    <tr>\n",
       "      <td>...</td>\n",
       "      <td>...</td>\n",
       "      <td>...</td>\n",
       "      <td>...</td>\n",
       "      <td>...</td>\n",
       "      <td>...</td>\n",
       "      <td>...</td>\n",
       "      <td>...</td>\n",
       "      <td>...</td>\n",
       "      <td>...</td>\n",
       "      <td>...</td>\n",
       "      <td>...</td>\n",
       "      <td>...</td>\n",
       "      <td>...</td>\n",
       "      <td>...</td>\n",
       "      <td>...</td>\n",
       "      <td>...</td>\n",
       "      <td>...</td>\n",
       "      <td>...</td>\n",
       "      <td>...</td>\n",
       "      <td>...</td>\n",
       "    </tr>\n",
       "    <tr>\n",
       "      <td>Troy Smith</td>\n",
       "      <td>6.0</td>\n",
       "      <td>7.6</td>\n",
       "      <td>145.0</td>\n",
       "      <td>73.0</td>\n",
       "      <td>50.3</td>\n",
       "      <td>6</td>\n",
       "      <td>4</td>\n",
       "      <td>2.8</td>\n",
       "      <td>6.5</td>\n",
       "      <td>38.5</td>\n",
       "      <td>77.8</td>\n",
       "      <td>18</td>\n",
       "      <td>11.0</td>\n",
       "      <td>5</td>\n",
       "      <td>3.4</td>\n",
       "      <td>8.1</td>\n",
       "      <td>16.1</td>\n",
       "      <td>196.0</td>\n",
       "      <td>1176</td>\n",
       "      <td>0.500000</td>\n",
       "    </tr>\n",
       "    <tr>\n",
       "      <td>Tyler Palko</td>\n",
       "      <td>3.0</td>\n",
       "      <td>3.9</td>\n",
       "      <td>134.0</td>\n",
       "      <td>80.0</td>\n",
       "      <td>59.7</td>\n",
       "      <td>6</td>\n",
       "      <td>7</td>\n",
       "      <td>5.2</td>\n",
       "      <td>4.9</td>\n",
       "      <td>29.6</td>\n",
       "      <td>59.8</td>\n",
       "      <td>11</td>\n",
       "      <td>7.6</td>\n",
       "      <td>2</td>\n",
       "      <td>1.5</td>\n",
       "      <td>5.9</td>\n",
       "      <td>10.0</td>\n",
       "      <td>132.7</td>\n",
       "      <td>796</td>\n",
       "      <td>0.250000</td>\n",
       "    </tr>\n",
       "    <tr>\n",
       "      <td>Tyrod Taylor</td>\n",
       "      <td>5.9</td>\n",
       "      <td>7.0</td>\n",
       "      <td>428.0</td>\n",
       "      <td>266.0</td>\n",
       "      <td>62.2</td>\n",
       "      <td>30</td>\n",
       "      <td>10</td>\n",
       "      <td>1.2</td>\n",
       "      <td>5.7</td>\n",
       "      <td>60.7</td>\n",
       "      <td>89.4</td>\n",
       "      <td>88</td>\n",
       "      <td>9.4</td>\n",
       "      <td>31</td>\n",
       "      <td>3.6</td>\n",
       "      <td>6.8</td>\n",
       "      <td>10.9</td>\n",
       "      <td>194.0</td>\n",
       "      <td>5822</td>\n",
       "      <td>0.517241</td>\n",
       "    </tr>\n",
       "    <tr>\n",
       "      <td>Vince Young</td>\n",
       "      <td>6.0</td>\n",
       "      <td>6.7</td>\n",
       "      <td>176.3</td>\n",
       "      <td>103.7</td>\n",
       "      <td>58.7</td>\n",
       "      <td>27</td>\n",
       "      <td>19</td>\n",
       "      <td>4.2</td>\n",
       "      <td>6.9</td>\n",
       "      <td>57.1</td>\n",
       "      <td>80.7</td>\n",
       "      <td>30</td>\n",
       "      <td>5.9</td>\n",
       "      <td>24</td>\n",
       "      <td>4.6</td>\n",
       "      <td>7.6</td>\n",
       "      <td>13.0</td>\n",
       "      <td>146.8</td>\n",
       "      <td>4000</td>\n",
       "      <td>0.619048</td>\n",
       "    </tr>\n",
       "    <tr>\n",
       "      <td>Zach Mettenberger</td>\n",
       "      <td>4.5</td>\n",
       "      <td>5.6</td>\n",
       "      <td>172.5</td>\n",
       "      <td>104.0</td>\n",
       "      <td>60.3</td>\n",
       "      <td>14</td>\n",
       "      <td>14</td>\n",
       "      <td>4.0</td>\n",
       "      <td>5.6</td>\n",
       "      <td>24.6</td>\n",
       "      <td>75.1</td>\n",
       "      <td>31</td>\n",
       "      <td>8.2</td>\n",
       "      <td>12</td>\n",
       "      <td>3.4</td>\n",
       "      <td>6.8</td>\n",
       "      <td>11.2</td>\n",
       "      <td>167.6</td>\n",
       "      <td>2347</td>\n",
       "      <td>0.000000</td>\n",
       "    </tr>\n",
       "  </tbody>\n",
       "</table>\n",
       "<p>132 rows × 20 columns</p>\n",
       "</div>"
      ],
      "text/plain": [
       "                   ANY/A  AY/A    Att    Cmp  Cmp%    G  Int  Int%  NY/A  \\\n",
       "A.J. McCarron        6.3   7.4  119.0   79.0  66.4    7    2   1.7   6.0   \n",
       "Aaron Rodgers        7.4   8.4  496.9  321.5  64.9  158   70   1.4   6.8   \n",
       "Alex Smith           6.2   7.1  414.1  264.7  64.0  134   70   1.8   6.2   \n",
       "Andrew Luck          6.3   7.0  548.3  333.3  60.4   86   83   2.6   6.4   \n",
       "Andy Dalton          6.1   6.9  510.5  316.4  62.1  122  107   2.6   6.4   \n",
       "...                  ...   ...    ...    ...   ...  ...  ...   ...   ...   \n",
       "Troy Smith           6.0   7.6  145.0   73.0  50.3    6    4   2.8   6.5   \n",
       "Tyler Palko          3.0   3.9  134.0   80.0  59.7    6    7   5.2   4.9   \n",
       "Tyrod Taylor         5.9   7.0  428.0  266.0  62.2   30   10   1.2   5.7   \n",
       "Vince Young          6.0   6.7  176.3  103.7  58.7   27   19   4.2   6.9   \n",
       "Zach Mettenberger    4.5   5.6  172.5  104.0  60.3   14   14   4.0   5.6   \n",
       "\n",
       "                    QBR   Rate   Sk   Sk%   TD  TD%  Y/A   Y/C    Y/G    Yds  \\\n",
       "A.J. McCarron       NaN   97.1   12   9.2    6  5.0  7.2  10.8  122.0    854   \n",
       "Aaron Rodgers      67.6  103.6  405   7.0  335  6.2  7.8  12.0  268.6  42579   \n",
       "Alex Smith         54.3   91.8  329   7.4  174  4.3  7.1  11.1  217.7  29389   \n",
       "Andrew Luck        63.1   88.3  174   5.0  171  5.2  7.1  11.9  274.7  23671   \n",
       "Andy Dalton        50.2   87.9  257   5.9  183  4.5  7.1  11.5  239.0  29028   \n",
       "...                 ...    ...  ...   ...  ...  ...  ...   ...    ...    ...   \n",
       "Troy Smith         38.5   77.8   18  11.0    5  3.4  8.1  16.1  196.0   1176   \n",
       "Tyler Palko        29.6   59.8   11   7.6    2  1.5  5.9  10.0  132.7    796   \n",
       "Tyrod Taylor       60.7   89.4   88   9.4   31  3.6  6.8  10.9  194.0   5822   \n",
       "Vince Young        57.1   80.7   30   5.9   24  4.6  7.6  13.0  146.8   4000   \n",
       "Zach Mettenberger  24.6   75.1   31   8.2   12  3.4  6.8  11.2  167.6   2347   \n",
       "\n",
       "                    win_pct  \n",
       "A.J. McCarron      0.666667  \n",
       "Aaron Rodgers      0.681529  \n",
       "Alex Smith         0.638462  \n",
       "Andrew Luck        0.616279  \n",
       "Andy Dalton        0.541667  \n",
       "...                     ...  \n",
       "Troy Smith         0.500000  \n",
       "Tyler Palko        0.250000  \n",
       "Tyrod Taylor       0.517241  \n",
       "Vince Young        0.619048  \n",
       "Zach Mettenberger  0.000000  \n",
       "\n",
       "[132 rows x 20 columns]"
      ]
     },
     "execution_count": 54,
     "metadata": {},
     "output_type": "execute_result"
    }
   ],
   "source": [
    "qb_career_stats"
   ]
  },
  {
   "cell_type": "code",
   "execution_count": 38,
   "metadata": {},
   "outputs": [
    {
     "data": {
      "text/plain": [
       "A.J. McCarron        46.534351\n",
       "Aaron Rodgers        67.600000\n",
       "Alex Smith           54.300000\n",
       "Andrew Luck          63.100000\n",
       "Andy Dalton          50.200000\n",
       "                       ...    \n",
       "Troy Smith           38.500000\n",
       "Tyler Palko          29.600000\n",
       "Tyrod Taylor         60.700000\n",
       "Vince Young          57.100000\n",
       "Zach Mettenberger    24.600000\n",
       "Name: QBR, Length: 132, dtype: float64"
      ]
     },
     "execution_count": 38,
     "metadata": {},
     "output_type": "execute_result"
    }
   ],
   "source": [
    "qb_career_stats['QBR'].fillna(qb_career_stats['QBR'].mean())"
   ]
  },
  {
   "cell_type": "code",
   "execution_count": 39,
   "metadata": {},
   "outputs": [],
   "source": [
    "qb_career_stats.to_csv('nfl-passing.csv')"
   ]
  },
  {
   "cell_type": "code",
   "execution_count": 40,
   "metadata": {},
   "outputs": [],
   "source": [
    "#plot ypa vs winpct, qbs with more than 100 career attempts\n",
    "#ypa_vs_winpct = qb_career_stats[['Y/A', 'win_pct']]\n",
    "#ypa_vs_winpct.plot(x='win_pct', y='Y/A', kind='scatter')"
   ]
  },
  {
   "cell_type": "code",
   "execution_count": 41,
   "metadata": {},
   "outputs": [],
   "source": [
    "#correlation\n",
    "#ypa_vs_winpct.corr(method='pearson')"
   ]
  },
  {
   "cell_type": "code",
   "execution_count": 42,
   "metadata": {},
   "outputs": [],
   "source": [
    "#anya vs winpct, qbs with more than 100 attempts\n",
    "#anya_vs_winpct = qb_career_stats[['ANY/A', 'win_pct']]\n",
    "#anya_vs_winpct.plot(x='win_pct', y = 'ANY/A', kind='scatter')"
   ]
  },
  {
   "cell_type": "code",
   "execution_count": 43,
   "metadata": {},
   "outputs": [],
   "source": [
    "#correlation\n",
    "#anya_vs_winpct.corr(method='pearson')"
   ]
  },
  {
   "cell_type": "code",
   "execution_count": 44,
   "metadata": {},
   "outputs": [],
   "source": [
    "#ypa vs winpct, qbs with more than 200 attempts\n",
    "#ypa_200 = qb_career_stats[qb_career_stats['Att'] >= 200]\n",
    "#ypa_200 = ypa_200[['Y/A', 'win_pct']]\n",
    "#ypa_200.plot(x='win_pct',y='Y/A', kind = 'scatter')"
   ]
  },
  {
   "cell_type": "code",
   "execution_count": 45,
   "metadata": {},
   "outputs": [],
   "source": [
    "#correlation\n",
    "#ypa_200.corr(method='pearson')"
   ]
  },
  {
   "cell_type": "code",
   "execution_count": 46,
   "metadata": {},
   "outputs": [],
   "source": [
    "#QBR vs win_pct\n",
    "#qbr_winpct = qb_career_stats[['QBR', 'win_pct']]\n",
    "#qbr_winpct.plot(x='win_pct', y='QBR', kind = 'scatter')"
   ]
  },
  {
   "cell_type": "code",
   "execution_count": 47,
   "metadata": {},
   "outputs": [],
   "source": [
    "#qbr_winpct.corr(method='pearson')"
   ]
  },
  {
   "cell_type": "code",
   "execution_count": 48,
   "metadata": {},
   "outputs": [],
   "source": [
    "#qbs with ypa > league average during period\n",
    "#qbs_ypa = qb_avg_stats[qb_avg_stats['Y/A'] > ypa_avg].sort_values(by=['Y/A'], ascending=False)\n",
    "#qbs_ypa.style.background_gradient('Blues',axis = 1, subset = ['Y/A'])"
   ]
  },
  {
   "cell_type": "code",
   "execution_count": 49,
   "metadata": {},
   "outputs": [],
   "source": [
    "#qbs_anya = qb_stats.groupby(level=0).mean().round(1)\n",
    "#qbs_anya  = qbs_anya.sort_values(by=['ANY/A'], ascending = False)\n",
    "#qbs_anya"
   ]
  },
  {
   "cell_type": "code",
   "execution_count": null,
   "metadata": {},
   "outputs": [],
   "source": []
  },
  {
   "cell_type": "code",
   "execution_count": null,
   "metadata": {},
   "outputs": [],
   "source": []
  },
  {
   "cell_type": "code",
   "execution_count": null,
   "metadata": {},
   "outputs": [],
   "source": []
  },
  {
   "cell_type": "code",
   "execution_count": null,
   "metadata": {},
   "outputs": [],
   "source": []
  },
  {
   "cell_type": "code",
   "execution_count": null,
   "metadata": {},
   "outputs": [],
   "source": []
  },
  {
   "cell_type": "code",
   "execution_count": null,
   "metadata": {},
   "outputs": [],
   "source": []
  },
  {
   "cell_type": "code",
   "execution_count": null,
   "metadata": {},
   "outputs": [],
   "source": []
  }
 ],
 "metadata": {
  "kernelspec": {
   "display_name": "Python 3",
   "language": "python",
   "name": "python3"
  },
  "language_info": {
   "codemirror_mode": {
    "name": "ipython",
    "version": 3
   },
   "file_extension": ".py",
   "mimetype": "text/x-python",
   "name": "python",
   "nbconvert_exporter": "python",
   "pygments_lexer": "ipython3",
   "version": "3.7.4"
  }
 },
 "nbformat": 4,
 "nbformat_minor": 2
}
