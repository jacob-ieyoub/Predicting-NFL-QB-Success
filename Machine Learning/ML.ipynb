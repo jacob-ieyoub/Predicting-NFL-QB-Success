{
 "cells": [
  {
   "cell_type": "markdown",
   "metadata": {},
   "source": [
    "# Machine Learning"
   ]
  },
  {
   "cell_type": "markdown",
   "metadata": {},
   "source": [
    "### Import Packages"
   ]
  },
  {
   "cell_type": "code",
   "execution_count": 1,
   "metadata": {},
   "outputs": [],
   "source": [
    "import pandas as pd\n",
    "import numpy as np\n",
    "import re\n",
    "import statistics\n",
    "import seaborn as sns\n",
    "import math\n",
    "from scipy import stats\n",
    "import glob\n",
    "import statsmodels.api as sm\n",
    "from statsmodels.stats.outliers_influence import variance_inflation_factor\n",
    "\n",
    "%matplotlib inline\n",
    "import matplotlib.pyplot as plt"
   ]
  },
  {
   "cell_type": "markdown",
   "metadata": {},
   "source": [
    "### Import Data"
   ]
  },
  {
   "cell_type": "code",
   "execution_count": 2,
   "metadata": {},
   "outputs": [],
   "source": [
    "path = ('../../capstone_project_1/data/')"
   ]
  },
  {
   "cell_type": "code",
   "execution_count": 3,
   "metadata": {},
   "outputs": [],
   "source": [
    "#Rate Data\n",
    "df = pd.read_csv(path + 'ml-data.csv')"
   ]
  },
  {
   "cell_type": "code",
   "execution_count": 4,
   "metadata": {
    "scrolled": true
   },
   "outputs": [
    {
     "data": {
      "text/plain": [
       "(151, 16)"
      ]
     },
     "execution_count": 4,
     "metadata": {},
     "output_type": "execute_result"
    }
   ],
   "source": [
    "df.shape"
   ]
  },
  {
   "cell_type": "code",
   "execution_count": 5,
   "metadata": {},
   "outputs": [],
   "source": [
    "df = df.set_index('Player')"
   ]
  },
  {
   "cell_type": "code",
   "execution_count": 6,
   "metadata": {
    "scrolled": false
   },
   "outputs": [
    {
     "data": {
      "text/html": [
       "<div>\n",
       "<style scoped>\n",
       "    .dataframe tbody tr th:only-of-type {\n",
       "        vertical-align: middle;\n",
       "    }\n",
       "\n",
       "    .dataframe tbody tr th {\n",
       "        vertical-align: top;\n",
       "    }\n",
       "\n",
       "    .dataframe thead th {\n",
       "        text-align: right;\n",
       "    }\n",
       "</style>\n",
       "<table border=\"1\" class=\"dataframe\">\n",
       "  <thead>\n",
       "    <tr style=\"text-align: right;\">\n",
       "      <th></th>\n",
       "      <th>Rate_NFL</th>\n",
       "      <th>Y/A_NFL</th>\n",
       "      <th>win_pct</th>\n",
       "      <th>AY/A_College</th>\n",
       "      <th>Att_College</th>\n",
       "      <th>Cmp_College</th>\n",
       "      <th>G_College</th>\n",
       "      <th>Int_College</th>\n",
       "      <th>Pct</th>\n",
       "      <th>Rate_College</th>\n",
       "      <th>TD_College</th>\n",
       "      <th>Y/A_College</th>\n",
       "      <th>Yds_College</th>\n",
       "      <th>above_nfl_ypa</th>\n",
       "      <th>above_nfl_rate</th>\n",
       "    </tr>\n",
       "    <tr>\n",
       "      <th>Player</th>\n",
       "      <th></th>\n",
       "      <th></th>\n",
       "      <th></th>\n",
       "      <th></th>\n",
       "      <th></th>\n",
       "      <th></th>\n",
       "      <th></th>\n",
       "      <th></th>\n",
       "      <th></th>\n",
       "      <th></th>\n",
       "      <th></th>\n",
       "      <th></th>\n",
       "      <th></th>\n",
       "      <th></th>\n",
       "      <th></th>\n",
       "    </tr>\n",
       "  </thead>\n",
       "  <tbody>\n",
       "    <tr>\n",
       "      <td>A.J. Feeley</td>\n",
       "      <td>66.1</td>\n",
       "      <td>6.2</td>\n",
       "      <td>0.466667</td>\n",
       "      <td>7.6</td>\n",
       "      <td>259</td>\n",
       "      <td>136</td>\n",
       "      <td>10</td>\n",
       "      <td>6</td>\n",
       "      <td>52.5</td>\n",
       "      <td>129.0</td>\n",
       "      <td>14</td>\n",
       "      <td>7.5</td>\n",
       "      <td>1951</td>\n",
       "      <td>0</td>\n",
       "      <td>0</td>\n",
       "    </tr>\n",
       "    <tr>\n",
       "      <td>A.J. McCarron</td>\n",
       "      <td>97.1</td>\n",
       "      <td>7.2</td>\n",
       "      <td>0.666667</td>\n",
       "      <td>9.6</td>\n",
       "      <td>978</td>\n",
       "      <td>656</td>\n",
       "      <td>40</td>\n",
       "      <td>15</td>\n",
       "      <td>67.1</td>\n",
       "      <td>163.3</td>\n",
       "      <td>74</td>\n",
       "      <td>8.8</td>\n",
       "      <td>8630</td>\n",
       "      <td>1</td>\n",
       "      <td>1</td>\n",
       "    </tr>\n",
       "    <tr>\n",
       "      <td>Aaron Brooks</td>\n",
       "      <td>77.5</td>\n",
       "      <td>6.8</td>\n",
       "      <td>0.422222</td>\n",
       "      <td>8.1</td>\n",
       "      <td>560</td>\n",
       "      <td>320</td>\n",
       "      <td>22</td>\n",
       "      <td>16</td>\n",
       "      <td>57.2</td>\n",
       "      <td>139.7</td>\n",
       "      <td>32</td>\n",
       "      <td>8.2</td>\n",
       "      <td>4601</td>\n",
       "      <td>0</td>\n",
       "      <td>0</td>\n",
       "    </tr>\n",
       "    <tr>\n",
       "      <td>Aaron Rodgers</td>\n",
       "      <td>102.7</td>\n",
       "      <td>7.8</td>\n",
       "      <td>0.653179</td>\n",
       "      <td>8.6</td>\n",
       "      <td>665</td>\n",
       "      <td>424</td>\n",
       "      <td>25</td>\n",
       "      <td>13</td>\n",
       "      <td>63.8</td>\n",
       "      <td>150.4</td>\n",
       "      <td>43</td>\n",
       "      <td>8.2</td>\n",
       "      <td>5469</td>\n",
       "      <td>1</td>\n",
       "      <td>1</td>\n",
       "    </tr>\n",
       "    <tr>\n",
       "      <td>Akili Smith</td>\n",
       "      <td>54.2</td>\n",
       "      <td>5.0</td>\n",
       "      <td>0.200000</td>\n",
       "      <td>8.8</td>\n",
       "      <td>571</td>\n",
       "      <td>323</td>\n",
       "      <td>23</td>\n",
       "      <td>15</td>\n",
       "      <td>56.0</td>\n",
       "      <td>147.0</td>\n",
       "      <td>45</td>\n",
       "      <td>8.5</td>\n",
       "      <td>5148</td>\n",
       "      <td>0</td>\n",
       "      <td>0</td>\n",
       "    </tr>\n",
       "    <tr>\n",
       "      <td>...</td>\n",
       "      <td>...</td>\n",
       "      <td>...</td>\n",
       "      <td>...</td>\n",
       "      <td>...</td>\n",
       "      <td>...</td>\n",
       "      <td>...</td>\n",
       "      <td>...</td>\n",
       "      <td>...</td>\n",
       "      <td>...</td>\n",
       "      <td>...</td>\n",
       "      <td>...</td>\n",
       "      <td>...</td>\n",
       "      <td>...</td>\n",
       "      <td>...</td>\n",
       "      <td>...</td>\n",
       "    </tr>\n",
       "    <tr>\n",
       "      <td>Troy Smith</td>\n",
       "      <td>77.8</td>\n",
       "      <td>8.1</td>\n",
       "      <td>0.500000</td>\n",
       "      <td>9.7</td>\n",
       "      <td>548</td>\n",
       "      <td>352</td>\n",
       "      <td>24</td>\n",
       "      <td>10</td>\n",
       "      <td>64.1</td>\n",
       "      <td>162.3</td>\n",
       "      <td>46</td>\n",
       "      <td>8.9</td>\n",
       "      <td>4824</td>\n",
       "      <td>1</td>\n",
       "      <td>0</td>\n",
       "    </tr>\n",
       "    <tr>\n",
       "      <td>Tyler Palko</td>\n",
       "      <td>59.8</td>\n",
       "      <td>5.9</td>\n",
       "      <td>0.250000</td>\n",
       "      <td>8.0</td>\n",
       "      <td>1072</td>\n",
       "      <td>643</td>\n",
       "      <td>35</td>\n",
       "      <td>25</td>\n",
       "      <td>60.4</td>\n",
       "      <td>141.7</td>\n",
       "      <td>66</td>\n",
       "      <td>7.8</td>\n",
       "      <td>8330</td>\n",
       "      <td>0</td>\n",
       "      <td>0</td>\n",
       "    </tr>\n",
       "    <tr>\n",
       "      <td>Tyrod Taylor</td>\n",
       "      <td>92.8</td>\n",
       "      <td>7.2</td>\n",
       "      <td>0.523810</td>\n",
       "      <td>9.6</td>\n",
       "      <td>558</td>\n",
       "      <td>324</td>\n",
       "      <td>27</td>\n",
       "      <td>10</td>\n",
       "      <td>57.8</td>\n",
       "      <td>152.1</td>\n",
       "      <td>37</td>\n",
       "      <td>9.1</td>\n",
       "      <td>5054</td>\n",
       "      <td>1</td>\n",
       "      <td>1</td>\n",
       "    </tr>\n",
       "    <tr>\n",
       "      <td>Vince Young</td>\n",
       "      <td>76.0</td>\n",
       "      <td>7.2</td>\n",
       "      <td>0.612245</td>\n",
       "      <td>8.0</td>\n",
       "      <td>575</td>\n",
       "      <td>360</td>\n",
       "      <td>25</td>\n",
       "      <td>21</td>\n",
       "      <td>62.2</td>\n",
       "      <td>146.2</td>\n",
       "      <td>38</td>\n",
       "      <td>8.4</td>\n",
       "      <td>4885</td>\n",
       "      <td>1</td>\n",
       "      <td>0</td>\n",
       "    </tr>\n",
       "    <tr>\n",
       "      <td>Zach Mettenberger</td>\n",
       "      <td>75.1</td>\n",
       "      <td>6.8</td>\n",
       "      <td>0.000000</td>\n",
       "      <td>9.0</td>\n",
       "      <td>648</td>\n",
       "      <td>399</td>\n",
       "      <td>25</td>\n",
       "      <td>15</td>\n",
       "      <td>61.8</td>\n",
       "      <td>149.9</td>\n",
       "      <td>34</td>\n",
       "      <td>8.9</td>\n",
       "      <td>5691</td>\n",
       "      <td>0</td>\n",
       "      <td>0</td>\n",
       "    </tr>\n",
       "  </tbody>\n",
       "</table>\n",
       "<p>151 rows × 15 columns</p>\n",
       "</div>"
      ],
      "text/plain": [
       "                   Rate_NFL  Y/A_NFL   win_pct  AY/A_College  Att_College  \\\n",
       "Player                                                                      \n",
       "A.J. Feeley            66.1      6.2  0.466667           7.6          259   \n",
       "A.J. McCarron          97.1      7.2  0.666667           9.6          978   \n",
       "Aaron Brooks           77.5      6.8  0.422222           8.1          560   \n",
       "Aaron Rodgers         102.7      7.8  0.653179           8.6          665   \n",
       "Akili Smith            54.2      5.0  0.200000           8.8          571   \n",
       "...                     ...      ...       ...           ...          ...   \n",
       "Troy Smith             77.8      8.1  0.500000           9.7          548   \n",
       "Tyler Palko            59.8      5.9  0.250000           8.0         1072   \n",
       "Tyrod Taylor           92.8      7.2  0.523810           9.6          558   \n",
       "Vince Young            76.0      7.2  0.612245           8.0          575   \n",
       "Zach Mettenberger      75.1      6.8  0.000000           9.0          648   \n",
       "\n",
       "                   Cmp_College  G_College  Int_College   Pct  Rate_College  \\\n",
       "Player                                                                       \n",
       "A.J. Feeley                136         10            6  52.5         129.0   \n",
       "A.J. McCarron              656         40           15  67.1         163.3   \n",
       "Aaron Brooks               320         22           16  57.2         139.7   \n",
       "Aaron Rodgers              424         25           13  63.8         150.4   \n",
       "Akili Smith                323         23           15  56.0         147.0   \n",
       "...                        ...        ...          ...   ...           ...   \n",
       "Troy Smith                 352         24           10  64.1         162.3   \n",
       "Tyler Palko                643         35           25  60.4         141.7   \n",
       "Tyrod Taylor               324         27           10  57.8         152.1   \n",
       "Vince Young                360         25           21  62.2         146.2   \n",
       "Zach Mettenberger          399         25           15  61.8         149.9   \n",
       "\n",
       "                   TD_College  Y/A_College  Yds_College  above_nfl_ypa  \\\n",
       "Player                                                                   \n",
       "A.J. Feeley                14          7.5         1951              0   \n",
       "A.J. McCarron              74          8.8         8630              1   \n",
       "Aaron Brooks               32          8.2         4601              0   \n",
       "Aaron Rodgers              43          8.2         5469              1   \n",
       "Akili Smith                45          8.5         5148              0   \n",
       "...                       ...          ...          ...            ...   \n",
       "Troy Smith                 46          8.9         4824              1   \n",
       "Tyler Palko                66          7.8         8330              0   \n",
       "Tyrod Taylor               37          9.1         5054              1   \n",
       "Vince Young                38          8.4         4885              1   \n",
       "Zach Mettenberger          34          8.9         5691              0   \n",
       "\n",
       "                   above_nfl_rate  \n",
       "Player                             \n",
       "A.J. Feeley                     0  \n",
       "A.J. McCarron                   1  \n",
       "Aaron Brooks                    0  \n",
       "Aaron Rodgers                   1  \n",
       "Akili Smith                     0  \n",
       "...                           ...  \n",
       "Troy Smith                      0  \n",
       "Tyler Palko                     0  \n",
       "Tyrod Taylor                    1  \n",
       "Vince Young                     0  \n",
       "Zach Mettenberger               0  \n",
       "\n",
       "[151 rows x 15 columns]"
      ]
     },
     "execution_count": 6,
     "metadata": {},
     "output_type": "execute_result"
    }
   ],
   "source": [
    "df"
   ]
  },
  {
   "cell_type": "markdown",
   "metadata": {},
   "source": [
    "## YPA Modeling"
   ]
  },
  {
   "cell_type": "markdown",
   "metadata": {},
   "source": [
    "### Set Features/Target for YPA. Assign Training and Testing Data.\n",
    "\n",
    "Training Data - Quarterbacks Drafted between 1999-2015. \\\n",
    "Testing Data - Quarterbacks Drafted between 2016-2019."
   ]
  },
  {
   "cell_type": "code",
   "execution_count": 7,
   "metadata": {},
   "outputs": [],
   "source": [
    "features = ['AY/A_College', 'Att_College','Cmp_College', 'G_College', 'Int_College','Pct','Rate_College','TD_College','Y/A_College','Yds_College']\n",
    "test_qbs = ['Baker Mayfield', 'C.J. Beathard', 'Cody Kessler', 'Dak Prescott', 'Daniel Jones', 'David Blough', 'Deshaun Watson', 'Drew Lock', 'Dwayne Haskins', 'Gardner Minshew', 'Jacoby Brissett', 'Jared Goff', 'Jeff Driskel', 'Josh Allen', 'Josh Rosen', 'Kyle Allen', 'Kyler Murray', 'Lamar Jackson', 'Mason Rudolph', 'Nick Mullens', 'Patrick Mahomes', 'Sam Darnold']"
   ]
  },
  {
   "cell_type": "code",
   "execution_count": 8,
   "metadata": {},
   "outputs": [],
   "source": [
    "df_train = df.drop(test_qbs)"
   ]
  },
  {
   "cell_type": "code",
   "execution_count": 9,
   "metadata": {},
   "outputs": [],
   "source": [
    "X_train = df_train.loc[:, features]\n",
    "y_train = df_train.loc[:, 'above_nfl_ypa']"
   ]
  },
  {
   "cell_type": "code",
   "execution_count": 10,
   "metadata": {},
   "outputs": [],
   "source": [
    "df_test = df.loc[test_qbs, :]"
   ]
  },
  {
   "cell_type": "code",
   "execution_count": 11,
   "metadata": {},
   "outputs": [],
   "source": [
    "X_test = df_test.loc[:, features]\n",
    "y_test = df_test.loc[:, 'above_nfl_ypa']"
   ]
  },
  {
   "cell_type": "markdown",
   "metadata": {},
   "source": [
    "### DummyClassifier"
   ]
  },
  {
   "cell_type": "code",
   "execution_count": 12,
   "metadata": {},
   "outputs": [
    {
     "name": "stdout",
     "output_type": "stream",
     "text": [
      "0.6046511627906976\n"
     ]
    }
   ],
   "source": [
    "from sklearn.dummy import DummyClassifier\n",
    "\n",
    "#Most Frequent\n",
    "dummy = DummyClassifier(strategy='most_frequent')\n",
    "dummy.fit(X_train, y_train)\n",
    "dummy_score_ypa = dummy.score(X_train, y_train)\n",
    "print(dummy.score(X_train, y_train))"
   ]
  },
  {
   "cell_type": "markdown",
   "metadata": {},
   "source": [
    "Goal is to have better than 60.5% accuracy in model. "
   ]
  },
  {
   "cell_type": "markdown",
   "metadata": {},
   "source": [
    "### Logistic Regression"
   ]
  },
  {
   "cell_type": "code",
   "execution_count": 13,
   "metadata": {
    "scrolled": true
   },
   "outputs": [
    {
     "name": "stdout",
     "output_type": "stream",
     "text": [
      "3 fold scores [0.76744186 0.62790698 0.6744186 ]\n",
      "3 fold mean scores 0.689922480620155\n",
      "====================================================================================================\n",
      "5 fold scores [0.73076923 0.65384615 0.69230769 0.73076923 0.68      ]\n",
      "5 fold mean scores 0.6975384615384616\n"
     ]
    }
   ],
   "source": [
    "#all ten features\n",
    "from sklearn.linear_model import LogisticRegression\n",
    "from sklearn.model_selection import cross_val_score\n",
    "\n",
    "logreg = LogisticRegression(solver='liblinear')\n",
    "\n",
    "#3 fold\n",
    "scores3 = cross_val_score(logreg, X_train, y_train, cv=3, scoring='accuracy')\n",
    "\n",
    "print('3 fold scores ' + str(scores3))\n",
    "cv3_logreg_1 = scores3.mean()\n",
    "print('3 fold mean scores ' + str(cv3_logreg_1))\n",
    "\n",
    "print('=' * 100)\n",
    "\n",
    "#5 fold\n",
    "scores5 = cross_val_score(logreg, X_train, y_train, cv=5, scoring='accuracy')\n",
    "\n",
    "print('5 fold scores ' + str(scores5))\n",
    "cv5_logreg_1 = scores5.mean()\n",
    "print('5 fold mean scores ' + str(cv5_logreg_1))"
   ]
  },
  {
   "cell_type": "markdown",
   "metadata": {},
   "source": [
    "Fairly good results, but this is ignoring multicollinearity. Will reduce feature with high Variance Inflation Factor."
   ]
  },
  {
   "cell_type": "markdown",
   "metadata": {},
   "source": [
    "### Multicollinearity"
   ]
  },
  {
   "cell_type": "code",
   "execution_count": 14,
   "metadata": {},
   "outputs": [],
   "source": [
    "from statsmodels.stats.outliers_influence import variance_inflation_factor    \n",
    "\n",
    "def calculate_vif_(X, thresh=50):\n",
    "    cols = X.columns\n",
    "    variables = np.arange(X.shape[1])\n",
    "    dropped=True\n",
    "    while dropped:\n",
    "        dropped=False\n",
    "        c = X[cols[variables]].values\n",
    "        vif = [variance_inflation_factor(c, ix) for ix in np.arange(c.shape[1])]\n",
    "\n",
    "        maxloc = vif.index(max(vif))\n",
    "        if max(vif) > thresh:\n",
    "            print('dropping \\'' + X[cols[variables]].columns[maxloc] + '\\' at index: ' + str(maxloc))\n",
    "            variables = np.delete(variables, maxloc)\n",
    "            dropped=True\n",
    "\n",
    "    print('Remaining variables:')\n",
    "    print(X.columns[variables])\n",
    "    return X[cols[variables]]"
   ]
  },
  {
   "cell_type": "code",
   "execution_count": 15,
   "metadata": {
    "scrolled": false
   },
   "outputs": [
    {
     "name": "stdout",
     "output_type": "stream",
     "text": [
      "dropping 'Rate_College' at index: 6\n",
      "dropping 'Y/A_College' at index: 7\n",
      "dropping 'Yds_College' at index: 7\n",
      "dropping 'Att_College' at index: 1\n",
      "dropping 'Pct' at index: 4\n",
      "dropping 'Cmp_College' at index: 1\n",
      "Remaining variables:\n",
      "Index(['AY/A_College', 'G_College', 'Int_College', 'TD_College'], dtype='object')\n"
     ]
    },
    {
     "data": {
      "text/html": [
       "<div>\n",
       "<style scoped>\n",
       "    .dataframe tbody tr th:only-of-type {\n",
       "        vertical-align: middle;\n",
       "    }\n",
       "\n",
       "    .dataframe tbody tr th {\n",
       "        vertical-align: top;\n",
       "    }\n",
       "\n",
       "    .dataframe thead th {\n",
       "        text-align: right;\n",
       "    }\n",
       "</style>\n",
       "<table border=\"1\" class=\"dataframe\">\n",
       "  <thead>\n",
       "    <tr style=\"text-align: right;\">\n",
       "      <th></th>\n",
       "      <th>AY/A_College</th>\n",
       "      <th>G_College</th>\n",
       "      <th>Int_College</th>\n",
       "      <th>TD_College</th>\n",
       "    </tr>\n",
       "    <tr>\n",
       "      <th>Player</th>\n",
       "      <th></th>\n",
       "      <th></th>\n",
       "      <th></th>\n",
       "      <th></th>\n",
       "    </tr>\n",
       "  </thead>\n",
       "  <tbody>\n",
       "    <tr>\n",
       "      <td>A.J. Feeley</td>\n",
       "      <td>7.6</td>\n",
       "      <td>10</td>\n",
       "      <td>6</td>\n",
       "      <td>14</td>\n",
       "    </tr>\n",
       "    <tr>\n",
       "      <td>A.J. McCarron</td>\n",
       "      <td>9.6</td>\n",
       "      <td>40</td>\n",
       "      <td>15</td>\n",
       "      <td>74</td>\n",
       "    </tr>\n",
       "    <tr>\n",
       "      <td>Aaron Brooks</td>\n",
       "      <td>8.1</td>\n",
       "      <td>22</td>\n",
       "      <td>16</td>\n",
       "      <td>32</td>\n",
       "    </tr>\n",
       "    <tr>\n",
       "      <td>Aaron Rodgers</td>\n",
       "      <td>8.6</td>\n",
       "      <td>25</td>\n",
       "      <td>13</td>\n",
       "      <td>43</td>\n",
       "    </tr>\n",
       "    <tr>\n",
       "      <td>Akili Smith</td>\n",
       "      <td>8.8</td>\n",
       "      <td>23</td>\n",
       "      <td>15</td>\n",
       "      <td>45</td>\n",
       "    </tr>\n",
       "    <tr>\n",
       "      <td>...</td>\n",
       "      <td>...</td>\n",
       "      <td>...</td>\n",
       "      <td>...</td>\n",
       "      <td>...</td>\n",
       "    </tr>\n",
       "    <tr>\n",
       "      <td>Troy Smith</td>\n",
       "      <td>9.7</td>\n",
       "      <td>24</td>\n",
       "      <td>10</td>\n",
       "      <td>46</td>\n",
       "    </tr>\n",
       "    <tr>\n",
       "      <td>Tyler Palko</td>\n",
       "      <td>8.0</td>\n",
       "      <td>35</td>\n",
       "      <td>25</td>\n",
       "      <td>66</td>\n",
       "    </tr>\n",
       "    <tr>\n",
       "      <td>Tyrod Taylor</td>\n",
       "      <td>9.6</td>\n",
       "      <td>27</td>\n",
       "      <td>10</td>\n",
       "      <td>37</td>\n",
       "    </tr>\n",
       "    <tr>\n",
       "      <td>Vince Young</td>\n",
       "      <td>8.0</td>\n",
       "      <td>25</td>\n",
       "      <td>21</td>\n",
       "      <td>38</td>\n",
       "    </tr>\n",
       "    <tr>\n",
       "      <td>Zach Mettenberger</td>\n",
       "      <td>9.0</td>\n",
       "      <td>25</td>\n",
       "      <td>15</td>\n",
       "      <td>34</td>\n",
       "    </tr>\n",
       "  </tbody>\n",
       "</table>\n",
       "<p>129 rows × 4 columns</p>\n",
       "</div>"
      ],
      "text/plain": [
       "                   AY/A_College  G_College  Int_College  TD_College\n",
       "Player                                                             \n",
       "A.J. Feeley                 7.6         10            6          14\n",
       "A.J. McCarron               9.6         40           15          74\n",
       "Aaron Brooks                8.1         22           16          32\n",
       "Aaron Rodgers               8.6         25           13          43\n",
       "Akili Smith                 8.8         23           15          45\n",
       "...                         ...        ...          ...         ...\n",
       "Troy Smith                  9.7         24           10          46\n",
       "Tyler Palko                 8.0         35           25          66\n",
       "Tyrod Taylor                9.6         27           10          37\n",
       "Vince Young                 8.0         25           21          38\n",
       "Zach Mettenberger           9.0         25           15          34\n",
       "\n",
       "[129 rows x 4 columns]"
      ]
     },
     "execution_count": 15,
     "metadata": {},
     "output_type": "execute_result"
    }
   ],
   "source": [
    "calculate_vif_(X_train)"
   ]
  },
  {
   "cell_type": "code",
   "execution_count": 16,
   "metadata": {},
   "outputs": [],
   "source": [
    "features_new = ['AY/A_College', 'G_College', 'Int_College', 'TD_College']\n",
    "X_train_new = X_train.loc[:, features_new]"
   ]
  },
  {
   "cell_type": "markdown",
   "metadata": {},
   "source": [
    "Now Perform Logistic Regression With Reduced Features."
   ]
  },
  {
   "cell_type": "code",
   "execution_count": 17,
   "metadata": {
    "scrolled": true
   },
   "outputs": [
    {
     "name": "stdout",
     "output_type": "stream",
     "text": [
      "3 fold scores [0.6744186  0.69767442 0.62790698]\n",
      "3 fold mean scores 0.6666666666666666\n",
      "====================================================================================================\n",
      "5 fold scores [0.69230769 0.73076923 0.73076923 0.65384615 0.56      ]\n",
      "5 fold mean scores 0.6735384615384615\n"
     ]
    }
   ],
   "source": [
    "logreg2 = LogisticRegression(solver='liblinear')\n",
    "\n",
    "#3 fold\n",
    "scores3_new = cross_val_score(logreg2, X_train_new, y_train, cv=3, scoring = 'accuracy')\n",
    "\n",
    "print('3 fold scores ' + str(scores3_new))\n",
    "cv3_logreg_2 = scores3_new.mean()\n",
    "print('3 fold mean scores ' + str(cv3_logreg_2))\n",
    "\n",
    "print('='*100)\n",
    "\n",
    "#5 fold\n",
    "scores5_new = cross_val_score(logreg, X_train_new, y_train, cv=5, scoring='accuracy')\n",
    "\n",
    "print('5 fold scores ' + str(scores5_new))\n",
    "cv5_logreg_2 = scores5_new.mean()\n",
    "print('5 fold mean scores ' + str(cv5_logreg_2))"
   ]
  },
  {
   "cell_type": "markdown",
   "metadata": {},
   "source": [
    "Decent results. Will now fit all of training data and score testing data. "
   ]
  },
  {
   "cell_type": "code",
   "execution_count": 18,
   "metadata": {},
   "outputs": [],
   "source": [
    "#New Test Data\n",
    "X_test_new = X_test.loc[:, features_new]"
   ]
  },
  {
   "cell_type": "code",
   "execution_count": 19,
   "metadata": {
    "scrolled": false
   },
   "outputs": [
    {
     "data": {
      "text/plain": [
       "0.5"
      ]
     },
     "execution_count": 19,
     "metadata": {},
     "output_type": "execute_result"
    }
   ],
   "source": [
    "logreg2.fit(X_train_new, y_train)\n",
    "logreg2_score = logreg2.score(X_test_new, y_test)\n",
    "logreg2_score"
   ]
  },
  {
   "cell_type": "markdown",
   "metadata": {},
   "source": [
    "Logistic Regression performs very poorly when predicting test data. Will see if parameter tuning can improve results."
   ]
  },
  {
   "cell_type": "code",
   "execution_count": 20,
   "metadata": {},
   "outputs": [],
   "source": [
    "from sklearn.model_selection import GridSearchCV\n",
    "\n",
    "def grid_search_logreg(X, y):\n",
    "    param_grid = {'C' : [0.001, 0.1, 1, 10, 100]}\n",
    "    \n",
    "    logreg = LogisticRegression(solver='liblinear')\n",
    "    logreg_cv = GridSearchCV(logreg, param_grid, cv=5)\n",
    "    \n",
    "    logreg_cv.fit(X, y)\n",
    "    \n",
    "    print(logreg_cv.best_params_)\n",
    "    print(logreg_cv.best_score_)"
   ]
  },
  {
   "cell_type": "code",
   "execution_count": 21,
   "metadata": {
    "scrolled": false
   },
   "outputs": [
    {
     "name": "stdout",
     "output_type": "stream",
     "text": [
      "{'C': 10}\n",
      "0.6812307692307693\n"
     ]
    }
   ],
   "source": [
    "grid_search_logreg(X_train_new, y_train)"
   ]
  },
  {
   "cell_type": "code",
   "execution_count": 22,
   "metadata": {},
   "outputs": [
    {
     "data": {
      "text/plain": [
       "0.5"
      ]
     },
     "execution_count": 22,
     "metadata": {},
     "output_type": "execute_result"
    }
   ],
   "source": [
    "#Logreg with best C\n",
    "logreg = LogisticRegression(solver='liblinear', C =10)\n",
    "\n",
    "logreg.fit(X_train_new, y_train)\n",
    "logreg3_test_score = logreg.score(X_test_new, y_test)\n",
    "logreg3_test_score"
   ]
  },
  {
   "cell_type": "markdown",
   "metadata": {},
   "source": [
    "Same score. Will move on to trying DecisionTreeClassifier."
   ]
  },
  {
   "cell_type": "markdown",
   "metadata": {},
   "source": [
    "### DecisionTree"
   ]
  },
  {
   "cell_type": "code",
   "execution_count": 23,
   "metadata": {},
   "outputs": [],
   "source": [
    "from sklearn.tree import DecisionTreeClassifier\n",
    "from sklearn.model_selection import train_test_split\n",
    "from sklearn import metrics"
   ]
  },
  {
   "cell_type": "code",
   "execution_count": 24,
   "metadata": {
    "scrolled": false
   },
   "outputs": [
    {
     "name": "stdout",
     "output_type": "stream",
     "text": [
      "3 fold scores [0.51162791 0.69767442 0.53488372]\n",
      "3 fold mean scores 0.5813953488372093\n",
      "====================================================================================================\n",
      "5 fold scores [0.57692308 0.53846154 0.57692308 0.53846154 0.52      ]\n",
      "5 fold mean scores 0.5501538461538462\n"
     ]
    }
   ],
   "source": [
    "#out of the box\n",
    "clf = DecisionTreeClassifier()\n",
    "\n",
    "#3 fold\n",
    "scores3 = cross_val_score(clf, X_train, y_train, cv=3, scoring='accuracy')\n",
    "\n",
    "print('3 fold scores ' + str(scores3))\n",
    "cv3_dt_1 = scores3.mean()\n",
    "print('3 fold mean scores ' + str(cv3_dt_1))\n",
    "\n",
    "print('=' * 100)\n",
    "\n",
    "#5 fold\n",
    "scores5 = cross_val_score(clf, X_train, y_train, cv=5, scoring='accuracy')\n",
    "\n",
    "print('5 fold scores ' + str(scores5))\n",
    "cv5_dt_1 = scores5.mean()\n",
    "print('5 fold mean scores ' + str(cv5_dt_1))"
   ]
  },
  {
   "cell_type": "markdown",
   "metadata": {},
   "source": [
    "Poor Scores."
   ]
  },
  {
   "cell_type": "code",
   "execution_count": 25,
   "metadata": {},
   "outputs": [
    {
     "name": "stdout",
     "output_type": "stream",
     "text": [
      "3 fold scores [0.58139535 0.69767442 0.62790698]\n",
      "3 fold mean scores 0.6356589147286822\n",
      "====================================================================================================\n",
      "5 fold scores [0.65384615 0.69230769 0.73076923 0.53846154 0.6       ]\n",
      "5 fold mean scores 0.6430769230769231\n"
     ]
    }
   ],
   "source": [
    "#simple tuning\n",
    "clf_tune = DecisionTreeClassifier(max_depth=2, criterion='entropy')\n",
    "\n",
    "#3 fold\n",
    "scores3 = cross_val_score(clf_tune, X_train, y_train, cv=3, scoring='accuracy')\n",
    "\n",
    "print('3 fold scores ' + str(scores3))\n",
    "cv3_dt_2 = scores3.mean()\n",
    "print('3 fold mean scores ' + str(scores3.mean()))\n",
    "\n",
    "print('=' * 100)\n",
    "\n",
    "#5 fold\n",
    "scores5 = cross_val_score(clf_tune, X_train, y_train, cv=5, scoring='accuracy')\n",
    "print('5 fold scores ' + str(scores5))\n",
    "cv5_dt_2 = scores5.mean()\n",
    "print('5 fold mean scores ' + str(scores5.mean()))"
   ]
  },
  {
   "cell_type": "markdown",
   "metadata": {},
   "source": [
    "Scores improved considerably. Will now get score on test data."
   ]
  },
  {
   "cell_type": "code",
   "execution_count": 26,
   "metadata": {},
   "outputs": [
    {
     "data": {
      "text/plain": [
       "0.5909090909090909"
      ]
     },
     "execution_count": 26,
     "metadata": {},
     "output_type": "execute_result"
    }
   ],
   "source": [
    "clf_tune.fit(X_train, y_train)\n",
    "dt_test_score = clf_tune.score(X_test, y_test)\n",
    "dt_test_score"
   ]
  },
  {
   "cell_type": "markdown",
   "metadata": {},
   "source": [
    "### Conclusion for YPA\n",
    "\n",
    "Modeling the YPA using Logistic Regression and Decision Tree models did not provide significantly accurate results. Will try out using Passer Rating as target variable to see if results improve. "
   ]
  },
  {
   "cell_type": "markdown",
   "metadata": {},
   "source": [
    "## Passer Rating Modeling"
   ]
  },
  {
   "cell_type": "markdown",
   "metadata": {},
   "source": [
    "### Set Features and Target for Passer Rating. Assign Training and Testing Data."
   ]
  },
  {
   "cell_type": "code",
   "execution_count": 27,
   "metadata": {},
   "outputs": [],
   "source": [
    "#Training\n",
    "X_train_rate = df_train.loc[:, features]\n",
    "y_train_rate = df_train.loc[:, 'above_nfl_rate']"
   ]
  },
  {
   "cell_type": "code",
   "execution_count": 28,
   "metadata": {},
   "outputs": [],
   "source": [
    "#Testing\n",
    "X_test_rate = df_test.loc[:, features]\n",
    "y_test_rate = df_test.loc[:, 'above_nfl_rate']"
   ]
  },
  {
   "cell_type": "markdown",
   "metadata": {},
   "source": [
    "### DummyClassifier"
   ]
  },
  {
   "cell_type": "code",
   "execution_count": 29,
   "metadata": {},
   "outputs": [
    {
     "name": "stdout",
     "output_type": "stream",
     "text": [
      "0.6666666666666666\n"
     ]
    }
   ],
   "source": [
    "from sklearn.dummy import DummyClassifier\n",
    "\n",
    "#Most Frequent\n",
    "dummy = DummyClassifier(strategy='most_frequent')\n",
    "dummy.fit(X_train_rate, y_train_rate)\n",
    "dummy_score_rate = dummy.score(X_train_rate, y_train_rate)\n",
    "print(dummy_score_rate)"
   ]
  },
  {
   "cell_type": "markdown",
   "metadata": {},
   "source": [
    "## Logistic Regression"
   ]
  },
  {
   "cell_type": "markdown",
   "metadata": {},
   "source": [
    "### Logisitic Regression w/ Cross-Validation"
   ]
  },
  {
   "cell_type": "code",
   "execution_count": 30,
   "metadata": {
    "scrolled": true
   },
   "outputs": [
    {
     "name": "stdout",
     "output_type": "stream",
     "text": [
      "3 fold scores [0.60465116 0.65116279 0.65116279]\n",
      "3 fold mean scores 0.6356589147286822\n",
      "====================================================================================================\n",
      "5 fold scores [0.57692308 0.61538462 0.61538462 0.65384615 0.64      ]\n",
      "5 fold mean scores 0.6203076923076923\n"
     ]
    }
   ],
   "source": [
    "from sklearn.linear_model import LogisticRegression\n",
    "from sklearn.model_selection import cross_val_score\n",
    "\n",
    "logreg = LogisticRegression(solver='liblinear')\n",
    "\n",
    "#3 fold\n",
    "scores3 = cross_val_score(logreg, X_train_rate, y_train_rate, cv=3, scoring='accuracy')\n",
    "\n",
    "print('3 fold scores ' + str(scores3))\n",
    "cv3_logreg_1_rate = scores3.mean()\n",
    "print('3 fold mean scores ' + str(scores3.mean()))\n",
    "\n",
    "print('=' * 100)\n",
    "\n",
    "#5 fold\n",
    "scores5 = cross_val_score(logreg, X_train_rate, y_train_rate, cv=5, scoring='accuracy')\n",
    "\n",
    "print('5 fold scores ' + str(scores5))\n",
    "cv5_logreg_1_rate = scores5.mean()\n",
    "print('5 fold mean scores ' + str(scores5.mean()))"
   ]
  },
  {
   "cell_type": "markdown",
   "metadata": {},
   "source": [
    "Need to account for Multicollinearity."
   ]
  },
  {
   "cell_type": "markdown",
   "metadata": {},
   "source": [
    "### Multicollinearity"
   ]
  },
  {
   "cell_type": "code",
   "execution_count": 31,
   "metadata": {
    "scrolled": true
   },
   "outputs": [
    {
     "name": "stdout",
     "output_type": "stream",
     "text": [
      "dropping 'Rate_College' at index: 6\n",
      "dropping 'Y/A_College' at index: 7\n",
      "dropping 'Yds_College' at index: 7\n",
      "dropping 'Att_College' at index: 1\n",
      "dropping 'Pct' at index: 4\n",
      "dropping 'Cmp_College' at index: 1\n",
      "Remaining variables:\n",
      "Index(['AY/A_College', 'G_College', 'Int_College', 'TD_College'], dtype='object')\n"
     ]
    },
    {
     "data": {
      "text/html": [
       "<div>\n",
       "<style scoped>\n",
       "    .dataframe tbody tr th:only-of-type {\n",
       "        vertical-align: middle;\n",
       "    }\n",
       "\n",
       "    .dataframe tbody tr th {\n",
       "        vertical-align: top;\n",
       "    }\n",
       "\n",
       "    .dataframe thead th {\n",
       "        text-align: right;\n",
       "    }\n",
       "</style>\n",
       "<table border=\"1\" class=\"dataframe\">\n",
       "  <thead>\n",
       "    <tr style=\"text-align: right;\">\n",
       "      <th></th>\n",
       "      <th>AY/A_College</th>\n",
       "      <th>G_College</th>\n",
       "      <th>Int_College</th>\n",
       "      <th>TD_College</th>\n",
       "    </tr>\n",
       "    <tr>\n",
       "      <th>Player</th>\n",
       "      <th></th>\n",
       "      <th></th>\n",
       "      <th></th>\n",
       "      <th></th>\n",
       "    </tr>\n",
       "  </thead>\n",
       "  <tbody>\n",
       "    <tr>\n",
       "      <td>A.J. Feeley</td>\n",
       "      <td>7.6</td>\n",
       "      <td>10</td>\n",
       "      <td>6</td>\n",
       "      <td>14</td>\n",
       "    </tr>\n",
       "    <tr>\n",
       "      <td>A.J. McCarron</td>\n",
       "      <td>9.6</td>\n",
       "      <td>40</td>\n",
       "      <td>15</td>\n",
       "      <td>74</td>\n",
       "    </tr>\n",
       "    <tr>\n",
       "      <td>Aaron Brooks</td>\n",
       "      <td>8.1</td>\n",
       "      <td>22</td>\n",
       "      <td>16</td>\n",
       "      <td>32</td>\n",
       "    </tr>\n",
       "    <tr>\n",
       "      <td>Aaron Rodgers</td>\n",
       "      <td>8.6</td>\n",
       "      <td>25</td>\n",
       "      <td>13</td>\n",
       "      <td>43</td>\n",
       "    </tr>\n",
       "    <tr>\n",
       "      <td>Akili Smith</td>\n",
       "      <td>8.8</td>\n",
       "      <td>23</td>\n",
       "      <td>15</td>\n",
       "      <td>45</td>\n",
       "    </tr>\n",
       "    <tr>\n",
       "      <td>...</td>\n",
       "      <td>...</td>\n",
       "      <td>...</td>\n",
       "      <td>...</td>\n",
       "      <td>...</td>\n",
       "    </tr>\n",
       "    <tr>\n",
       "      <td>Troy Smith</td>\n",
       "      <td>9.7</td>\n",
       "      <td>24</td>\n",
       "      <td>10</td>\n",
       "      <td>46</td>\n",
       "    </tr>\n",
       "    <tr>\n",
       "      <td>Tyler Palko</td>\n",
       "      <td>8.0</td>\n",
       "      <td>35</td>\n",
       "      <td>25</td>\n",
       "      <td>66</td>\n",
       "    </tr>\n",
       "    <tr>\n",
       "      <td>Tyrod Taylor</td>\n",
       "      <td>9.6</td>\n",
       "      <td>27</td>\n",
       "      <td>10</td>\n",
       "      <td>37</td>\n",
       "    </tr>\n",
       "    <tr>\n",
       "      <td>Vince Young</td>\n",
       "      <td>8.0</td>\n",
       "      <td>25</td>\n",
       "      <td>21</td>\n",
       "      <td>38</td>\n",
       "    </tr>\n",
       "    <tr>\n",
       "      <td>Zach Mettenberger</td>\n",
       "      <td>9.0</td>\n",
       "      <td>25</td>\n",
       "      <td>15</td>\n",
       "      <td>34</td>\n",
       "    </tr>\n",
       "  </tbody>\n",
       "</table>\n",
       "<p>129 rows × 4 columns</p>\n",
       "</div>"
      ],
      "text/plain": [
       "                   AY/A_College  G_College  Int_College  TD_College\n",
       "Player                                                             \n",
       "A.J. Feeley                 7.6         10            6          14\n",
       "A.J. McCarron               9.6         40           15          74\n",
       "Aaron Brooks                8.1         22           16          32\n",
       "Aaron Rodgers               8.6         25           13          43\n",
       "Akili Smith                 8.8         23           15          45\n",
       "...                         ...        ...          ...         ...\n",
       "Troy Smith                  9.7         24           10          46\n",
       "Tyler Palko                 8.0         35           25          66\n",
       "Tyrod Taylor                9.6         27           10          37\n",
       "Vince Young                 8.0         25           21          38\n",
       "Zach Mettenberger           9.0         25           15          34\n",
       "\n",
       "[129 rows x 4 columns]"
      ]
     },
     "execution_count": 31,
     "metadata": {},
     "output_type": "execute_result"
    }
   ],
   "source": [
    "calculate_vif_(X_train_rate)"
   ]
  },
  {
   "cell_type": "code",
   "execution_count": 32,
   "metadata": {},
   "outputs": [],
   "source": [
    "X_train_rate_new = X_train_rate.loc[:, features_new]"
   ]
  },
  {
   "cell_type": "markdown",
   "metadata": {},
   "source": [
    "### Logistic Regression After Reducing Features"
   ]
  },
  {
   "cell_type": "code",
   "execution_count": 33,
   "metadata": {
    "scrolled": false
   },
   "outputs": [
    {
     "name": "stdout",
     "output_type": "stream",
     "text": [
      "3 fold scores [0.72093023 0.65116279 0.65116279]\n",
      "3 fold mean scores 0.6744186046511628\n",
      "====================================================================================================\n",
      "5 fold scores [0.73076923 0.73076923 0.61538462 0.69230769 0.64      ]\n",
      "5 fold mean scores 0.6818461538461539\n"
     ]
    }
   ],
   "source": [
    "logreg2 = LogisticRegression(solver='liblinear')\n",
    "\n",
    "#3 fold\n",
    "scores3_new = cross_val_score(logreg2, X_train_rate_new, y_train_rate, cv=3, scoring = 'accuracy')\n",
    "\n",
    "print('3 fold scores ' + str(scores3_new))\n",
    "cv3_logreg_2_rate = scores3_new.mean()\n",
    "print('3 fold mean scores ' + str(scores3_new.mean()))\n",
    "\n",
    "print('='*100)\n",
    "\n",
    "#5 fold\n",
    "scores5_new = cross_val_score(logreg, X_train_rate_new, y_train_rate, cv=5, scoring='accuracy')\n",
    "\n",
    "print('5 fold scores ' + str(scores5_new))\n",
    "cv5_logreg_2_rate = scores5_new.mean()\n",
    "print('5 fold mean scores ' + str(scores5_new.mean()))"
   ]
  },
  {
   "cell_type": "markdown",
   "metadata": {},
   "source": [
    "Better results after reducing features. Will now see if parameter tuning improves score."
   ]
  },
  {
   "cell_type": "code",
   "execution_count": 34,
   "metadata": {
    "scrolled": true
   },
   "outputs": [
    {
     "name": "stdout",
     "output_type": "stream",
     "text": [
      "{'C': 10}\n",
      "0.6898461538461539\n"
     ]
    }
   ],
   "source": [
    "grid_search_logreg(X_train_rate_new, y_train_rate)"
   ]
  },
  {
   "cell_type": "code",
   "execution_count": 35,
   "metadata": {},
   "outputs": [],
   "source": [
    "#new test data\n",
    "X_test_rate_new = X_test_rate.loc[:, features_new]"
   ]
  },
  {
   "cell_type": "code",
   "execution_count": 36,
   "metadata": {
    "scrolled": true
   },
   "outputs": [
    {
     "data": {
      "text/plain": [
       "0.5"
      ]
     },
     "execution_count": 36,
     "metadata": {},
     "output_type": "execute_result"
    }
   ],
   "source": [
    "#fit model with new C and score testing data\n",
    "logreg = LogisticRegression(solver='liblinear', C=10)\n",
    "logreg.fit(X_train_rate_new, y_train_rate)\n",
    "logreg_test_score_rate = logreg.score(X_test_rate_new, y_test_rate)\n",
    "logreg_test_score_rate"
   ]
  },
  {
   "cell_type": "markdown",
   "metadata": {},
   "source": [
    "Score worse than DummyClassifier as with Logistic Regression with YPA as target. Now try Decision Tree."
   ]
  },
  {
   "cell_type": "markdown",
   "metadata": {},
   "source": [
    "### Decision Tree"
   ]
  },
  {
   "cell_type": "code",
   "execution_count": 37,
   "metadata": {},
   "outputs": [],
   "source": [
    "from sklearn.tree import DecisionTreeClassifier\n",
    "from sklearn.model_selection import train_test_split\n",
    "from sklearn import metrics"
   ]
  },
  {
   "cell_type": "code",
   "execution_count": 38,
   "metadata": {
    "scrolled": true
   },
   "outputs": [
    {
     "name": "stdout",
     "output_type": "stream",
     "text": [
      "3 fold scores [0.58139535 0.53488372 0.46511628]\n",
      "3 fold mean scores 0.5271317829457364\n",
      "====================================================================================================\n",
      "5 fold scores [0.46153846 0.61538462 0.42307692 0.5        0.52      ]\n",
      "5 fold mean scores 0.504\n"
     ]
    }
   ],
   "source": [
    "#out of the box\n",
    "clf = DecisionTreeClassifier()\n",
    "\n",
    "#3 fold\n",
    "scores3_new = cross_val_score(clf, X_train_rate, y_train_rate, cv=3, scoring='accuracy')\n",
    "\n",
    "print('3 fold scores ' + str(scores3_new))\n",
    "cv3_dt_1_rate = scores3_new.mean()\n",
    "print('3 fold mean scores ' + str(scores3_new.mean()))\n",
    "\n",
    "print('=' * 100)\n",
    "\n",
    "#5 fold\n",
    "scores5_new = cross_val_score(clf, X_train_rate, y_train_rate, cv=5, scoring='accuracy')\n",
    "\n",
    "print('5 fold scores ' + str(scores5_new))\n",
    "cv5_dt_1_rate = scores5_new.mean()\n",
    "print('5 fold mean scores ' + str(scores5_new.mean()))"
   ]
  },
  {
   "cell_type": "markdown",
   "metadata": {},
   "source": [
    "Out of the box had poor results. Will try out some parameter tuning."
   ]
  },
  {
   "cell_type": "code",
   "execution_count": 39,
   "metadata": {
    "scrolled": false
   },
   "outputs": [
    {
     "name": "stdout",
     "output_type": "stream",
     "text": [
      "3 fold scores [0.60465116 0.60465116 0.60465116]\n",
      "3 fold mean scores 0.6046511627906976\n",
      "====================================================================================================\n",
      "5 fold scores [0.65384615 0.61538462 0.53846154 0.69230769 0.48      ]\n",
      "5 fold mean scores 0.596\n"
     ]
    }
   ],
   "source": [
    "#some tuning\n",
    "clf_tune = DecisionTreeClassifier(max_depth=2, criterion='entropy')\n",
    "\n",
    "#3 fold\n",
    "scores3_new = cross_val_score(clf_tune, X_train_rate, y_train_rate, cv=3, scoring='accuracy')\n",
    "\n",
    "print('3 fold scores ' + str(scores3_new))\n",
    "cv3_dt_2_rate = scores3_new.mean()\n",
    "print('3 fold mean scores ' + str(scores3_new.mean()))\n",
    "\n",
    "print('=' * 100)\n",
    "\n",
    "#5 fold\n",
    "scores5_new = cross_val_score(clf_tune, X_train_rate, y_train_rate, cv=5, scoring='accuracy')\n",
    "\n",
    "print('5 fold scores ' + str(scores5_new))\n",
    "cv5_dt_2_rate = scores5_new.mean()\n",
    "print('5 fold mean scores ' + str(scores5_new.mean()))"
   ]
  },
  {
   "cell_type": "markdown",
   "metadata": {},
   "source": [
    "Better scores. Will now fit with training data and score testing data."
   ]
  },
  {
   "cell_type": "code",
   "execution_count": 40,
   "metadata": {
    "scrolled": true
   },
   "outputs": [
    {
     "name": "stdout",
     "output_type": "stream",
     "text": [
      "0.7727272727272727\n"
     ]
    }
   ],
   "source": [
    "clf_tune.fit(X_train_rate, y_train_rate)\n",
    "\n",
    "dt_test_score_rate = clf_tune.score(X_test_rate, y_test_rate)\n",
    "print(dt_test_score_rate)\n"
   ]
  },
  {
   "cell_type": "markdown",
   "metadata": {},
   "source": [
    "Best score so far. Will explore further to see if we can reproduce and maybe improve by running several iterations."
   ]
  },
  {
   "cell_type": "code",
   "execution_count": 41,
   "metadata": {},
   "outputs": [],
   "source": [
    "y_pred = clf_tune.predict(X_test_rate)"
   ]
  },
  {
   "cell_type": "code",
   "execution_count": 42,
   "metadata": {},
   "outputs": [
    {
     "name": "stdout",
     "output_type": "stream",
     "text": [
      "[[ 7  1]\n",
      " [ 4 10]]\n"
     ]
    }
   ],
   "source": [
    "from sklearn.metrics import confusion_matrix\n",
    "\n",
    "print(confusion_matrix(y_test_rate, y_pred))"
   ]
  },
  {
   "cell_type": "code",
   "execution_count": 43,
   "metadata": {
    "scrolled": true
   },
   "outputs": [
    {
     "name": "stdout",
     "output_type": "stream",
     "text": [
      "              precision    recall  f1-score   support\n",
      "\n",
      "           0       0.64      0.88      0.74         8\n",
      "           1       0.91      0.71      0.80        14\n",
      "\n",
      "    accuracy                           0.77        22\n",
      "   macro avg       0.77      0.79      0.77        22\n",
      "weighted avg       0.81      0.77      0.78        22\n",
      "\n"
     ]
    }
   ],
   "source": [
    "from sklearn.metrics import classification_report\n",
    "\n",
    "print(classification_report(y_test_rate, y_pred))"
   ]
  },
  {
   "cell_type": "markdown",
   "metadata": {},
   "source": [
    "Will rerun model by splitting training data several times."
   ]
  },
  {
   "cell_type": "code",
   "execution_count": 44,
   "metadata": {},
   "outputs": [],
   "source": [
    "# Set up lists of values for each quarterback\n",
    "predictions = [[] for i in range(len(X_test_rate.index))]\n",
    "scores = []\n",
    "starting_seed = 100\n",
    "num_splits = 100\n",
    "count = 1\n",
    "\n",
    "# Repeat this process for different training/test splits\n",
    "for i in range(starting_seed, starting_seed+num_splits):\n",
    "    \n",
    "    count = count+1\n",
    "    \n",
    "    # Split into training-test\n",
    "    X_train, X_t, y_train, y_t = train_test_split(X_train_rate, y_train_rate, test_size=0.10, random_state=i+1, stratify=y_train_rate)\n",
    "    \n",
    "    \n",
    "    # Fit random forest\n",
    "    dt = DecisionTreeClassifier(criterion='entropy', max_depth=2)\n",
    "    \n",
    "    dt.fit(X_train, y_train)\n",
    "    \n",
    "    # Predict on recent quarterbacks\n",
    "    y_predict = dt.predict(X_test_rate)\n",
    "    scores.append(dt.score(X_test_rate, y_test_rate))\n",
    "    # Add result to list\n",
    "    for i in range(0, len(list(y_predict))):\n",
    "        predictions[i].append(y_predict[i])\n",
    "    \n",
    "        \n",
    "qb_results = {}\n",
    "\n",
    "for i in range(len(X_test_rate)):\n",
    "    qb_results[X_test_rate.index[i]] = predictions[i]\n",
    "\n",
    "# Collect and display the means and standard deviations of each quarterback's predictions\n",
    "means = []\n",
    "\n",
    "for i in qb_results:\n",
    "    means.append(round(np.mean(qb_results[i]),2))\n",
    "    \n",
    "test_results = pd.DataFrame({'Player':X_test_rate.index ,'mean':means})[['Player', 'mean']]\n",
    "\n",
    "test_results['result'] = [1 if test_result > 0.5 else 0 for test_result in test_results['mean']]\n",
    "\n",
    "test_results['actual'] = y_test_rate.values\n",
    "\n",
    "test_results['Rate_NFL'] = df_test['Rate_NFL'].values\n",
    "test_results = test_results.sort_values(by='Rate_NFL', ascending= False)\n",
    "test_results['true / false'] = test_results.result == test_results.actual\n",
    "test_results = test_results.set_index('Player')\n"
   ]
  },
  {
   "cell_type": "code",
   "execution_count": 56,
   "metadata": {
    "scrolled": true
   },
   "outputs": [
    {
     "name": "stdout",
     "output_type": "stream",
     "text": [
      "0.8181818181818182\n",
      "0.36363636363636365\n",
      "0.6363636363636364\n",
      "0.7727272727272727\n"
     ]
    },
    {
     "data": {
      "image/png": "[encoded data removed]",
      "text/plain": [
       "<Figure size 432x288 with 1 Axes>"
      ]
     },
     "metadata": {
      "needs_background": "light"
     },
     "output_type": "display_data"
    }
   ],
   "source": [
    "from statistics import mode\n",
    "plt.plot(scores)\n",
    "plt.xlabel('Iteration')\n",
    "plt.ylabel('Accuracy')\n",
    "print(np.max(scores)) \n",
    "print(np.min(scores))\n",
    "print(np.median(scores))\n",
    "print(mode(scores))"
   ]
  },
  {
   "cell_type": "code",
   "execution_count": 55,
   "metadata": {},
   "outputs": [
    {
     "data": {
      "text/plain": [
       "(array([18.,  4., 37., 41.]),\n",
       " array([0.36363636, 0.47727273, 0.59090909, 0.70454545, 0.81818182]),\n",
       " <a list of 4 Patch objects>)"
      ]
     },
     "execution_count": 55,
     "metadata": {},
     "output_type": "execute_result"
    },
    {
     "data": {
      "image/png": "[encoded data removed]",
      "text/plain": [
       "<Figure size 432x288 with 1 Axes>"
      ]
     },
     "metadata": {
      "needs_background": "light"
     },
     "output_type": "display_data"
    }
   ],
   "source": [
    "plt.hist(scores, bins=)"
   ]
  },
  {
   "cell_type": "code",
   "execution_count": 46,
   "metadata": {
    "scrolled": false
   },
   "outputs": [
    {
     "data": {
      "text/html": [
       "<div>\n",
       "<style scoped>\n",
       "    .dataframe tbody tr th:only-of-type {\n",
       "        vertical-align: middle;\n",
       "    }\n",
       "\n",
       "    .dataframe tbody tr th {\n",
       "        vertical-align: top;\n",
       "    }\n",
       "\n",
       "    .dataframe thead th {\n",
       "        text-align: right;\n",
       "    }\n",
       "</style>\n",
       "<table border=\"1\" class=\"dataframe\">\n",
       "  <thead>\n",
       "    <tr style=\"text-align: right;\">\n",
       "      <th></th>\n",
       "      <th>mean</th>\n",
       "      <th>result</th>\n",
       "      <th>actual</th>\n",
       "      <th>Rate_NFL</th>\n",
       "      <th>true / false</th>\n",
       "    </tr>\n",
       "    <tr>\n",
       "      <th>Player</th>\n",
       "      <th></th>\n",
       "      <th></th>\n",
       "      <th></th>\n",
       "      <th></th>\n",
       "      <th></th>\n",
       "    </tr>\n",
       "  </thead>\n",
       "  <tbody>\n",
       "    <tr>\n",
       "      <td>Patrick Mahomes</td>\n",
       "      <td>0.26</td>\n",
       "      <td>0</td>\n",
       "      <td>1</td>\n",
       "      <td>109.6</td>\n",
       "      <td>False</td>\n",
       "    </tr>\n",
       "    <tr>\n",
       "      <td>Deshaun Watson</td>\n",
       "      <td>0.56</td>\n",
       "      <td>1</td>\n",
       "      <td>1</td>\n",
       "      <td>101.4</td>\n",
       "      <td>True</td>\n",
       "    </tr>\n",
       "    <tr>\n",
       "      <td>Lamar Jackson</td>\n",
       "      <td>0.56</td>\n",
       "      <td>1</td>\n",
       "      <td>1</td>\n",
       "      <td>98.9</td>\n",
       "      <td>True</td>\n",
       "    </tr>\n",
       "    <tr>\n",
       "      <td>Dak Prescott</td>\n",
       "      <td>0.66</td>\n",
       "      <td>1</td>\n",
       "      <td>1</td>\n",
       "      <td>97.0</td>\n",
       "      <td>True</td>\n",
       "    </tr>\n",
       "    <tr>\n",
       "      <td>Gardner Minshew</td>\n",
       "      <td>0.15</td>\n",
       "      <td>0</td>\n",
       "      <td>1</td>\n",
       "      <td>91.2</td>\n",
       "      <td>False</td>\n",
       "    </tr>\n",
       "    <tr>\n",
       "      <td>Nick Mullens</td>\n",
       "      <td>0.61</td>\n",
       "      <td>1</td>\n",
       "      <td>1</td>\n",
       "      <td>90.8</td>\n",
       "      <td>True</td>\n",
       "    </tr>\n",
       "    <tr>\n",
       "      <td>Drew Lock</td>\n",
       "      <td>0.61</td>\n",
       "      <td>1</td>\n",
       "      <td>1</td>\n",
       "      <td>89.7</td>\n",
       "      <td>True</td>\n",
       "    </tr>\n",
       "    <tr>\n",
       "      <td>Jared Goff</td>\n",
       "      <td>0.64</td>\n",
       "      <td>1</td>\n",
       "      <td>1</td>\n",
       "      <td>87.9</td>\n",
       "      <td>True</td>\n",
       "    </tr>\n",
       "    <tr>\n",
       "      <td>Daniel Jones</td>\n",
       "      <td>0.13</td>\n",
       "      <td>0</td>\n",
       "      <td>1</td>\n",
       "      <td>87.7</td>\n",
       "      <td>False</td>\n",
       "    </tr>\n",
       "    <tr>\n",
       "      <td>Kyler Murray</td>\n",
       "      <td>0.53</td>\n",
       "      <td>1</td>\n",
       "      <td>1</td>\n",
       "      <td>87.4</td>\n",
       "      <td>True</td>\n",
       "    </tr>\n",
       "    <tr>\n",
       "      <td>Baker Mayfield</td>\n",
       "      <td>0.72</td>\n",
       "      <td>1</td>\n",
       "      <td>1</td>\n",
       "      <td>86.2</td>\n",
       "      <td>True</td>\n",
       "    </tr>\n",
       "    <tr>\n",
       "      <td>Jacoby Brissett</td>\n",
       "      <td>0.00</td>\n",
       "      <td>0</td>\n",
       "      <td>1</td>\n",
       "      <td>84.8</td>\n",
       "      <td>False</td>\n",
       "    </tr>\n",
       "    <tr>\n",
       "      <td>Cody Kessler</td>\n",
       "      <td>0.80</td>\n",
       "      <td>1</td>\n",
       "      <td>1</td>\n",
       "      <td>84.8</td>\n",
       "      <td>True</td>\n",
       "    </tr>\n",
       "    <tr>\n",
       "      <td>Mason Rudolph</td>\n",
       "      <td>0.80</td>\n",
       "      <td>1</td>\n",
       "      <td>1</td>\n",
       "      <td>82.0</td>\n",
       "      <td>True</td>\n",
       "    </tr>\n",
       "    <tr>\n",
       "      <td>Sam Darnold</td>\n",
       "      <td>0.30</td>\n",
       "      <td>0</td>\n",
       "      <td>0</td>\n",
       "      <td>80.9</td>\n",
       "      <td>True</td>\n",
       "    </tr>\n",
       "    <tr>\n",
       "      <td>Kyle Allen</td>\n",
       "      <td>0.00</td>\n",
       "      <td>0</td>\n",
       "      <td>0</td>\n",
       "      <td>80.0</td>\n",
       "      <td>True</td>\n",
       "    </tr>\n",
       "    <tr>\n",
       "      <td>Jeff Driskel</td>\n",
       "      <td>0.18</td>\n",
       "      <td>0</td>\n",
       "      <td>0</td>\n",
       "      <td>78.8</td>\n",
       "      <td>True</td>\n",
       "    </tr>\n",
       "    <tr>\n",
       "      <td>Josh Allen</td>\n",
       "      <td>0.00</td>\n",
       "      <td>0</td>\n",
       "      <td>0</td>\n",
       "      <td>76.6</td>\n",
       "      <td>True</td>\n",
       "    </tr>\n",
       "    <tr>\n",
       "      <td>Dwayne Haskins</td>\n",
       "      <td>0.33</td>\n",
       "      <td>0</td>\n",
       "      <td>0</td>\n",
       "      <td>76.1</td>\n",
       "      <td>True</td>\n",
       "    </tr>\n",
       "    <tr>\n",
       "      <td>C.J. Beathard</td>\n",
       "      <td>0.16</td>\n",
       "      <td>0</td>\n",
       "      <td>0</td>\n",
       "      <td>75.5</td>\n",
       "      <td>True</td>\n",
       "    </tr>\n",
       "    <tr>\n",
       "      <td>David Blough</td>\n",
       "      <td>0.14</td>\n",
       "      <td>0</td>\n",
       "      <td>0</td>\n",
       "      <td>64.0</td>\n",
       "      <td>True</td>\n",
       "    </tr>\n",
       "    <tr>\n",
       "      <td>Josh Rosen</td>\n",
       "      <td>0.01</td>\n",
       "      <td>0</td>\n",
       "      <td>0</td>\n",
       "      <td>59.4</td>\n",
       "      <td>True</td>\n",
       "    </tr>\n",
       "  </tbody>\n",
       "</table>\n",
       "</div>"
      ],
      "text/plain": [
       "                 mean  result  actual  Rate_NFL  true / false\n",
       "Player                                                       \n",
       "Patrick Mahomes  0.26       0       1     109.6         False\n",
       "Deshaun Watson   0.56       1       1     101.4          True\n",
       "Lamar Jackson    0.56       1       1      98.9          True\n",
       "Dak Prescott     0.66       1       1      97.0          True\n",
       "Gardner Minshew  0.15       0       1      91.2         False\n",
       "Nick Mullens     0.61       1       1      90.8          True\n",
       "Drew Lock        0.61       1       1      89.7          True\n",
       "Jared Goff       0.64       1       1      87.9          True\n",
       "Daniel Jones     0.13       0       1      87.7         False\n",
       "Kyler Murray     0.53       1       1      87.4          True\n",
       "Baker Mayfield   0.72       1       1      86.2          True\n",
       "Jacoby Brissett  0.00       0       1      84.8         False\n",
       "Cody Kessler     0.80       1       1      84.8          True\n",
       "Mason Rudolph    0.80       1       1      82.0          True\n",
       "Sam Darnold      0.30       0       0      80.9          True\n",
       "Kyle Allen       0.00       0       0      80.0          True\n",
       "Jeff Driskel     0.18       0       0      78.8          True\n",
       "Josh Allen       0.00       0       0      76.6          True\n",
       "Dwayne Haskins   0.33       0       0      76.1          True\n",
       "C.J. Beathard    0.16       0       0      75.5          True\n",
       "David Blough     0.14       0       0      64.0          True\n",
       "Josh Rosen       0.01       0       0      59.4          True"
      ]
     },
     "execution_count": 46,
     "metadata": {},
     "output_type": "execute_result"
    }
   ],
   "source": [
    "test_results"
   ]
  },
  {
   "cell_type": "code",
   "execution_count": 47,
   "metadata": {},
   "outputs": [
    {
     "data": {
      "text/plain": [
       "0.8181818181818182"
      ]
     },
     "execution_count": 47,
     "metadata": {},
     "output_type": "execute_result"
    }
   ],
   "source": [
    "model_score_100_iterations = test_results['true / false'].value_counts()[1] / len(test_results)\n",
    "model_score_100_iterations"
   ]
  },
  {
   "cell_type": "code",
   "execution_count": 57,
   "metadata": {
    "scrolled": true
   },
   "outputs": [
    {
     "data": {
      "text/plain": [
       "Text(0.5, 1, 'Confusion Matrix')"
      ]
     },
     "execution_count": 57,
     "metadata": {},
     "output_type": "execute_result"
    },
    {
     "data": {
      "image/png": "[encoded data removed]",
      "text/plain": [
       "<Figure size 432x288 with 2 Axes>"
      ]
     },
     "metadata": {
      "needs_background": "light"
     },
     "output_type": "display_data"
    }
   ],
   "source": [
    "from sklearn.metrics import confusion_matrix\n",
    "\n",
    "cm = pd.DataFrame(confusion_matrix(test_results['actual'], test_results['result']))\n",
    "labels = np.array([['TN : ' + str(cm[0][0]), 'FP: ' + str(cm[1][0])], ['FN: ' + str(cm[0][1]), 'TP: ' + str(cm[1][1])]])\n",
    "sns.heatmap(cm, annot=labels, fmt='', cmap='Greens')\n",
    "plt.title('Confusion Matrix')"
   ]
  },
  {
   "cell_type": "code",
   "execution_count": 58,
   "metadata": {},
   "outputs": [
    {
     "name": "stdout",
     "output_type": "stream",
     "text": [
      "              precision    recall  f1-score   support\n",
      "\n",
      "           0       0.67      1.00      0.80         8\n",
      "           1       1.00      0.71      0.83        14\n",
      "\n",
      "    accuracy                           0.82        22\n",
      "   macro avg       0.83      0.86      0.82        22\n",
      "weighted avg       0.88      0.82      0.82        22\n",
      "\n"
     ]
    }
   ],
   "source": [
    "print(classification_report(test_results['actual'], test_results['result']))"
   ]
  },
  {
   "cell_type": "code",
   "execution_count": 49,
   "metadata": {},
   "outputs": [
    {
     "data": {
      "text/plain": [
       "1    14\n",
       "0     8\n",
       "Name: actual, dtype: int64"
      ]
     },
     "execution_count": 49,
     "metadata": {},
     "output_type": "execute_result"
    }
   ],
   "source": [
    "test_results.actual.value_counts()"
   ]
  },
  {
   "cell_type": "code",
   "execution_count": 50,
   "metadata": {},
   "outputs": [
    {
     "data": {
      "text/plain": [
       "Cmp_College     0.410863\n",
       "Pct             0.347966\n",
       "Y/A_College     0.241171\n",
       "Yds_College     0.000000\n",
       "TD_College      0.000000\n",
       "Rate_College    0.000000\n",
       "Int_College     0.000000\n",
       "G_College       0.000000\n",
       "Att_College     0.000000\n",
       "AY/A_College    0.000000\n",
       "dtype: float64"
      ]
     },
     "execution_count": 50,
     "metadata": {},
     "output_type": "execute_result"
    }
   ],
   "source": [
    "feature_importances = pd.Series(dt.feature_importances_, index=X_test_rate.columns).sort_values(ascending=False)\n",
    "feature_importances"
   ]
  },
  {
   "cell_type": "code",
   "execution_count": 51,
   "metadata": {},
   "outputs": [
    {
     "name": "stdout",
     "output_type": "stream",
     "text": [
      "Yards Per Attempt Modeling\n",
      "YPA DummyClassifier Score: 0.6046511627906976\n",
      "YPA Logistic Regression 3-Fold Cross-Validation Score, all features: 0.689922480620155\n",
      "YPA Logistic Regression 5-Fold Cross-Validation Score, all features: 0.6975384615384616\n",
      "====================================================================================================\n",
      "YPA Logistic Regression 3-Fold Cross-Validation Score, Reduced Features: 0.6666666666666666\n",
      "YPA Logistic Regression 5-Fold Cross-Validation Score, Reduced Features: 0.6735384615384615\n",
      "====================================================================================================\n",
      "YPA Logistic Regression with Parameter Tuning Test Score: 0.5\n",
      "====================================================================================================\n",
      "YPA DecisionTree 3-Fold Cross-Validation Score: 0.5813953488372093\n",
      "YPA DecisionTree 5-Fold Cross-Validation Score: 0.5501538461538462\n",
      "YPA DecisionTree with Parameter Tuning Test Score: 0.5909090909090909\n",
      "====================================================================================================\n",
      "====================================================================================================\n",
      "Passer Rating Modeling\n",
      "Passer Rating DummyClassifier Score: 0.6666666666666666\n",
      "Passer Rating Logistic Regression 3-Fold Cross-Validation Score, all features: 0.6356589147286822\n",
      "Passer Rating Logistic Regression 5-Fold Cross-Validation Score, all features: 0.6203076923076923\n",
      "====================================================================================================\n",
      "Passer Rating Logistic Regression 3-Fold Cross-Validation Score, Reduced Features: 0.6744186046511628\n",
      "Passer Rating Logistic Regression 5-Fold Cross-Validation Score, Reduced Features: 0.6818461538461539\n",
      "====================================================================================================\n",
      "Passer Rating Logistic Regression with Parameter Tuning Test Score: 0.5\n",
      "====================================================================================================\n",
      "Passer Rating DecisionTree 3-Fold Cross-Validation Score: 0.5271317829457364\n",
      "Passer Rating DecisionTree 5-Fold Cross-Validation Score: 0.504\n",
      "====================================================================================================\n",
      "Passer Rating DecisionTree 3-Fold Cross-Validation Score, Parameter Tuning: 0.6046511627906976\n",
      "Passer Rating DecisionTree 5-Fold Cross-Validation Score, Parameter Tuning: 0.596\n",
      "Passer Rating DecisionTree with Parameter Tuning Test Score: 0.7727272727272727\n",
      "====================================================================================================\n",
      "100 Iterations of Model: 0.8181818181818182\n"
     ]
    }
   ],
   "source": [
    "print('Yards Per Attempt Modeling')\n",
    "print('YPA DummyClassifier Score: ' + str(dummy_score_ypa))\n",
    "print('YPA Logistic Regression 3-Fold Cross-Validation Score, all features: ' + str(cv3_logreg_1))\n",
    "print('YPA Logistic Regression 5-Fold Cross-Validation Score, all features: ' + str(cv5_logreg_1))\n",
    "print('=' * 100)\n",
    "print('YPA Logistic Regression 3-Fold Cross-Validation Score, Reduced Features: ' + str(cv3_logreg_2))\n",
    "print('YPA Logistic Regression 5-Fold Cross-Validation Score, Reduced Features: ' + str(cv5_logreg_2))\n",
    "print('=' * 100)\n",
    "print('YPA Logistic Regression with Parameter Tuning Test Score: ' + str(logreg3_test_score))\n",
    "print('=' * 100)\n",
    "print('YPA DecisionTree 3-Fold Cross-Validation Score: ' + str(cv3_dt_1))\n",
    "print('YPA DecisionTree 5-Fold Cross-Validation Score: ' + str(cv5_dt_1))\n",
    "print('YPA DecisionTree with Parameter Tuning Test Score: ' + str(dt_test_score))\n",
    "print('='*100)\n",
    "print('='*100)\n",
    "print('Passer Rating Modeling')\n",
    "print('Passer Rating DummyClassifier Score: ' + str(dummy_score_rate))\n",
    "print('Passer Rating Logistic Regression 3-Fold Cross-Validation Score, all features: ' + str(cv3_logreg_1_rate))\n",
    "print('Passer Rating Logistic Regression 5-Fold Cross-Validation Score, all features: ' + str(cv5_logreg_1_rate))\n",
    "print('=' * 100)\n",
    "print('Passer Rating Logistic Regression 3-Fold Cross-Validation Score, Reduced Features: ' + str(cv3_logreg_2_rate))\n",
    "print('Passer Rating Logistic Regression 5-Fold Cross-Validation Score, Reduced Features: ' + str(cv5_logreg_2_rate))\n",
    "print('=' * 100)\n",
    "print('Passer Rating Logistic Regression with Parameter Tuning Test Score: ' + str(logreg_test_score_rate))\n",
    "print('=' * 100)\n",
    "print('Passer Rating DecisionTree 3-Fold Cross-Validation Score: ' + str(cv3_dt_1_rate))\n",
    "print('Passer Rating DecisionTree 5-Fold Cross-Validation Score: ' + str(cv5_dt_1_rate))\n",
    "print('=' *100)\n",
    "print('Passer Rating DecisionTree 3-Fold Cross-Validation Score, Parameter Tuning: ' + str(cv3_dt_2_rate))\n",
    "print('Passer Rating DecisionTree 5-Fold Cross-Validation Score, Parameter Tuning: ' + str(cv5_dt_2_rate))\n",
    "print('Passer Rating DecisionTree with Parameter Tuning Test Score: ' + str(dt_test_score_rate))\n",
    "print('=' * 100)\n",
    "print('100 Iterations of Model: ' + str(model_score_100_iterations))"
   ]
  },
  {
   "cell_type": "code",
   "execution_count": null,
   "metadata": {},
   "outputs": [],
   "source": []
  }
 ],
 "metadata": {
  "kernelspec": {
   "display_name": "Python 3",
   "language": "python",
   "name": "python3"
  },
  "language_info": {
   "codemirror_mode": {
    "name": "ipython",
    "version": 3
   },
   "file_extension": ".py",
   "mimetype": "text/x-python",
   "name": "python",
   "nbconvert_exporter": "python",
   "pygments_lexer": "ipython3",
   "version": "3.7.4"
  }
 },
 "nbformat": 4,
 "nbformat_minor": 2
}
